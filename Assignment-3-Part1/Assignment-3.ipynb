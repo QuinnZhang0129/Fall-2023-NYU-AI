{
 "cells": [
  {
   "cell_type": "markdown",
   "id": "4799bafa-7a6f-4ab8-b38c-78b91cab4b6a",
   "metadata": {},
   "source": [
    "# UAV Detection and Tracking"
   ]
  },
  {
   "cell_type": "markdown",
   "id": "2099fcf3-fe6a-4557-b6f0-4c22473a6d4d",
   "metadata": {},
   "source": [
    "Multi-Object Tracking (MOT) is a core visual ability that humans poses to perform kinetic tasks and coordinate other tasks. The AI community has recognized the importance of MOT via a series of [competitions](https://motchallenge.net). "
   ]
  },
  {
   "cell_type": "markdown",
   "id": "961bb3bd-535f-4d72-a0a3-acf5046766ee",
   "metadata": {},
   "source": [
    "In this assignment, the object class is `drone` and the ability to track this object  will be demonstrated using [Kalman Filters](https://en.wikipedia.org/wiki/Kalman_filter). The assignment will give you the opportunity to apply probabilistic reasoning in the physical security application space. "
   ]
  },
  {
   "cell_type": "markdown",
   "id": "049803e3-46a4-4f69-a6db-169b1c1e8a0f",
   "metadata": {},
   "source": [
    "## Task 1: Setup your development environment and store the test videos locally (10 points)"
   ]
  },
  {
   "cell_type": "code",
   "execution_count": 5,
   "id": "386306c1-b6b3-4657-992c-cf78798da775",
   "metadata": {},
   "outputs": [],
   "source": [
    "from pytube import YouTube\n",
    "\n",
    "def Download(link):\n",
    "    youtubeObject = YouTube(link)\n",
    "    youtubeObject = youtubeObject.streams.get_highest_resolution()\n",
    "    try:\n",
    "        youtubeObject.download()\n",
    "    except:\n",
    "        print(\"An error has occurred\")\n",
    "    print(\"Download is completed successfully\")"
   ]
  },
  {
   "cell_type": "code",
   "execution_count": 7,
   "id": "cf4a338e-6b90-4f0c-ab6d-4eaf3b3f3c75",
   "metadata": {},
   "outputs": [
    {
     "name": "stdout",
     "output_type": "stream",
     "text": [
      "Download is completed successfully\n",
      "Download is completed successfully\n"
     ]
    }
   ],
   "source": [
    "link_1 = \"https://www.youtube.com/watch?v=DhmZ6W1UAv4\"\n",
    "Download(link_1)\n",
    "link_2 = \"https://www.youtube.com/watch?v=YrydHPwRelI\"\n",
    "Download(link_2)"
   ]
  },
  {
   "cell_type": "markdown",
   "id": "1f8ebf8a-d46a-4183-a4bd-8d2de4b2fdde",
   "metadata": {},
   "source": [
    "## Task 1: Drone Object Detection (40 points)"
   ]
  },
  {
   "cell_type": "markdown",
   "id": "3d91067b-2b90-4831-9c5b-03bc6385dca2",
   "metadata": {},
   "source": [
    "You need to research can use any dataset that can be used to detect the class `drone` such as the drones used for the test videos. Please be careful to distinguish between the datasets that detect objects *from* drones to datasets that detect *the* drones. Your object detector must use a deep learning model but you can use an existing object detector model architecture. "
   ]
  },
  {
   "cell_type": "markdown",
   "id": "24f889ca-36f2-407d-9371-fa8202e4192b",
   "metadata": {},
   "source": [
    "Split the videos into frames and use each frame to present the drone detections you got. Store all images that you had detections in a folder called `detections`. Write your code in such a way that a number of videos can be processed from a directory and not just these two.\n"
   ]
  },
  {
   "cell_type": "markdown",
   "id": "1cd51b42-6e73-4a5e-a21a-80849e9152f9",
   "metadata": {},
   "source": [
    "## Split the videos into frames"
   ]
  },
  {
   "cell_type": "code",
   "execution_count": 16,
   "id": "ba0bb6cf-6fa3-4d60-a6e2-e66636e2721b",
   "metadata": {
    "collapsed": true,
    "jupyter": {
     "outputs_hidden": true
    },
    "scrolled": true
   },
   "outputs": [
    {
     "name": "stdout",
     "output_type": "stream",
     "text": [
      "Collecting opencv-python-headless==4.5.3.56\n",
      "  Downloading opencv_python_headless-4.5.3.56-cp39-cp39-manylinux2014_x86_64.whl (37.1 MB)\n",
      "\u001b[2K     \u001b[90m━━━━━━━━━━━━━━━━━━━━━━━━━━━━━━━━━━━━━━━━\u001b[0m \u001b[32m37.1/37.1 MB\u001b[0m \u001b[31m8.0 MB/s\u001b[0m eta \u001b[36m0:00:00\u001b[0m:00:01\u001b[0m00:01\u001b[0m\n",
      "\u001b[?25hRequirement already satisfied: numpy>=1.19.3 in /usr/local/lib/python3.9/site-packages (from opencv-python-headless==4.5.3.56) (1.26.1)\n",
      "Installing collected packages: opencv-python-headless\n",
      "Successfully installed opencv-python-headless-4.5.3.56\n",
      "\u001b[33mWARNING: Running pip as the 'root' user can result in broken permissions and conflicting behaviour with the system package manager. It is recommended to use a virtual environment instead: https://pip.pypa.io/warnings/venv\u001b[0m\u001b[33m\n",
      "\u001b[0m"
     ]
    }
   ],
   "source": [
    "!pip3 install opencv-python-headless==4.5.3.56"
   ]
  },
  {
   "cell_type": "code",
   "execution_count": 22,
   "id": "8e5d1fdd-503b-48cb-84ac-abde881eddf7",
   "metadata": {},
   "outputs": [],
   "source": [
    "import cv2\n",
    " \n",
    "def split_video_into_frames(video_path, output_folder):\n",
    "    # Open the video file\n",
    "    video_capture = cv2.VideoCapture(video_path)\n",
    "\n",
    "    # Get information about the video\n",
    "    fps = int(video_capture.get(cv2.CAP_PROP_FPS))\n",
    "    frame_count = int(video_capture.get(cv2.CAP_PROP_FRAME_COUNT))\n",
    "\n",
    "    # Loop through each frame and save it as an image\n",
    "    for frame_number in range(frame_count):\n",
    "        ret, frame = video_capture.read()\n",
    "        if not ret:\n",
    "            break\n",
    "        # Save the frame as an image\n",
    "        frame_filename = f\"{output_folder}/frame_{frame_number + 1}.jpg\"\n",
    "        cv2.imwrite(frame_filename, frame)\n",
    "\n",
    "    # Release the video capture object\n",
    "    video_capture.release()"
   ]
  },
  {
   "cell_type": "code",
   "execution_count": null,
   "id": "25329bc9-5953-4ee3-8925-a9efa4e0af1d",
   "metadata": {},
   "outputs": [],
   "source": [
    "!mkdir Drone_Tracking_1\n",
    "!mkdir Drone_Tracking_2"
   ]
  },
  {
   "cell_type": "code",
   "execution_count": 23,
   "id": "4d38d025-f744-4fe0-ba59-b7b342ffce60",
   "metadata": {},
   "outputs": [],
   "source": [
    "if __name__ == \"__main__\":\n",
    "    video_path = \"Drone Tracking 1.mp4\"\n",
    "    output_folder = \"Drone_Tracking_1\"\n",
    "    split_video_into_frames(video_path, output_folder)"
   ]
  },
  {
   "cell_type": "code",
   "execution_count": 24,
   "id": "110cccc8-3a69-43c5-a15d-182ea03d7214",
   "metadata": {},
   "outputs": [],
   "source": [
    "if __name__ == \"__main__\":\n",
    "    video_path = \"Drone Tracking 2.mp4\"\n",
    "    output_folder = \"Drone_Tracking_2\"\n",
    "    split_video_into_frames(video_path, output_folder)"
   ]
  },
  {
   "cell_type": "code",
   "execution_count": 2,
   "id": "564d7b10-138a-4c12-8095-e00a008c3ec7",
   "metadata": {
    "collapsed": true,
    "jupyter": {
     "outputs_hidden": true
    },
    "scrolled": true
   },
   "outputs": [
    {
     "name": "stdout",
     "output_type": "stream",
     "text": [
      "Collecting ultralytics\n",
      "  Downloading ultralytics-8.0.208-py3-none-any.whl (645 kB)\n",
      "\u001b[2K     \u001b[90m━━━━━━━━━━━━━━━━━━━━━━━━━━━━━━━━━━━━━━\u001b[0m \u001b[32m645.2/645.2 kB\u001b[0m \u001b[31m13.0 MB/s\u001b[0m eta \u001b[36m0:00:00\u001b[0ma \u001b[36m0:00:01\u001b[0m\n",
      "\u001b[?25hRequirement already satisfied: psutil in /usr/local/lib/python3.9/site-packages (from ultralytics) (5.9.6)\n",
      "Collecting matplotlib>=3.3.0\n",
      "  Downloading matplotlib-3.8.1-cp39-cp39-manylinux_2_17_x86_64.manylinux2014_x86_64.whl (11.6 MB)\n",
      "\u001b[2K     \u001b[90m━━━━━━━━━━━━━━━━━━━━━━━━━━━━━━━━━━━━━━━━\u001b[0m \u001b[32m11.6/11.6 MB\u001b[0m \u001b[31m27.0 MB/s\u001b[0m eta \u001b[36m0:00:00\u001b[0m00:01\u001b[0m00:01\u001b[0m\n",
      "\u001b[?25hCollecting py-cpuinfo\n",
      "  Downloading py_cpuinfo-9.0.0-py3-none-any.whl (22 kB)\n",
      "Collecting pillow>=7.1.2\n",
      "  Downloading Pillow-10.1.0-cp39-cp39-manylinux_2_28_x86_64.whl (3.6 MB)\n",
      "\u001b[2K     \u001b[90m━━━━━━━━━━━━━━━━━━━━━━━━━━━━━━━━━━━━━━━━\u001b[0m \u001b[32m3.6/3.6 MB\u001b[0m \u001b[31m33.5 MB/s\u001b[0m eta \u001b[36m0:00:00\u001b[0m00:01\u001b[0m00:01\u001b[0m\n",
      "\u001b[?25hRequirement already satisfied: requests>=2.23.0 in /usr/local/lib/python3.9/site-packages (from ultralytics) (2.31.0)\n",
      "Collecting scipy>=1.4.1\n",
      "  Downloading scipy-1.11.3-cp39-cp39-manylinux_2_17_x86_64.manylinux2014_x86_64.whl (36.6 MB)\n",
      "\u001b[2K     \u001b[90m━━━━━━━━━━━━━━━━━━━━━━━━━━━━━━━━━━━━━━━━\u001b[0m \u001b[32m36.6/36.6 MB\u001b[0m \u001b[31m19.9 MB/s\u001b[0m eta \u001b[36m0:00:00\u001b[0m00:01\u001b[0m00:01\u001b[0m\n",
      "\u001b[?25hCollecting torch>=1.8.0\n",
      "  Downloading torch-2.1.0-cp39-cp39-manylinux1_x86_64.whl (670.2 MB)\n",
      "\u001b[2K     \u001b[90m━━━━━━━━━━━━━━━━━━━━━━━━━━━━━━━━━━━━━━━\u001b[0m \u001b[32m670.2/670.2 MB\u001b[0m \u001b[31m1.2 MB/s\u001b[0m eta \u001b[36m0:00:00\u001b[0m00:01\u001b[0m00:01\u001b[0m\n",
      "\u001b[?25hCollecting pandas>=1.1.4\n",
      "  Downloading pandas-2.1.3-cp39-cp39-manylinux_2_17_x86_64.manylinux2014_x86_64.whl (12.3 MB)\n",
      "\u001b[2K     \u001b[90m━━━━━━━━━━━━━━━━━━━━━━━━━━━━━━━━━━━━━━━━\u001b[0m \u001b[32m12.3/12.3 MB\u001b[0m \u001b[31m36.2 MB/s\u001b[0m eta \u001b[36m0:00:00\u001b[0m00:01\u001b[0m00:01\u001b[0m\n",
      "\u001b[?25hCollecting thop>=0.1.1\n",
      "  Downloading thop-0.1.1.post2209072238-py3-none-any.whl (15 kB)\n",
      "Collecting numpy>=1.22.2\n",
      "  Downloading numpy-1.26.2-cp39-cp39-manylinux_2_17_x86_64.manylinux2014_x86_64.whl (18.2 MB)\n",
      "\u001b[2K     \u001b[90m━━━━━━━━━━━━━━━━━━━━━━━━━━━━━━━━━━━━━━━━\u001b[0m \u001b[32m18.2/18.2 MB\u001b[0m \u001b[31m26.1 MB/s\u001b[0m eta \u001b[36m0:00:00\u001b[0m00:01\u001b[0m00:01\u001b[0m\n",
      "\u001b[?25hCollecting opencv-python>=4.6.0\n",
      "  Downloading opencv_python-4.8.1.78-cp37-abi3-manylinux_2_17_x86_64.manylinux2014_x86_64.whl (61.7 MB)\n",
      "\u001b[2K     \u001b[90m━━━━━━━━━━━━━━━━━━━━━━━━━━━━━━━━━━━━━━━━\u001b[0m \u001b[32m61.7/61.7 MB\u001b[0m \u001b[31m22.8 MB/s\u001b[0m eta \u001b[36m0:00:00\u001b[0m00:01\u001b[0m00:01\u001b[0m\n",
      "\u001b[?25hCollecting seaborn>=0.11.0\n",
      "  Downloading seaborn-0.13.0-py3-none-any.whl (294 kB)\n",
      "\u001b[2K     \u001b[90m━━━━━━━━━━━━━━━━━━━━━━━━━━━━━━━━━━━━━━\u001b[0m \u001b[32m294.6/294.6 kB\u001b[0m \u001b[31m28.7 MB/s\u001b[0m eta \u001b[36m0:00:00\u001b[0m\n",
      "\u001b[?25hCollecting tqdm>=4.64.0\n",
      "  Downloading tqdm-4.66.1-py3-none-any.whl (78 kB)\n",
      "\u001b[2K     \u001b[90m━━━━━━━━━━━━━━━━━━━━━━━━━━━━━━━━━━━━━━━━\u001b[0m \u001b[32m78.3/78.3 kB\u001b[0m \u001b[31m5.4 MB/s\u001b[0m eta \u001b[36m0:00:00\u001b[0m\n",
      "\u001b[?25hCollecting torchvision>=0.9.0\n",
      "  Downloading torchvision-0.16.0-cp39-cp39-manylinux1_x86_64.whl (6.9 MB)\n",
      "\u001b[2K     \u001b[90m━━━━━━━━━━━━━━━━━━━━━━━━━━━━━━━━━━━━━━━━\u001b[0m \u001b[32m6.9/6.9 MB\u001b[0m \u001b[31m39.5 MB/s\u001b[0m eta \u001b[36m0:00:00\u001b[0ma \u001b[36m0:00:01\u001b[0m\n",
      "\u001b[?25hRequirement already satisfied: pyyaml>=5.3.1 in /usr/local/lib/python3.9/site-packages (from ultralytics) (6.0.1)\n",
      "Requirement already satisfied: python-dateutil>=2.7 in /usr/local/lib/python3.9/site-packages (from matplotlib>=3.3.0->ultralytics) (2.8.2)\n",
      "Collecting fonttools>=4.22.0\n",
      "  Downloading fonttools-4.44.0-cp39-cp39-manylinux_2_17_x86_64.manylinux2014_x86_64.whl (4.5 MB)\n",
      "\u001b[2K     \u001b[90m━━━━━━━━━━━━━━━━━━━━━━━━━━━━━━━━━━━━━━━━\u001b[0m \u001b[32m4.5/4.5 MB\u001b[0m \u001b[31m41.4 MB/s\u001b[0m eta \u001b[36m0:00:00\u001b[0m00:01\u001b[0m00:01\u001b[0m\n",
      "\u001b[?25hRequirement already satisfied: packaging>=20.0 in /usr/local/lib/python3.9/site-packages (from matplotlib>=3.3.0->ultralytics) (23.2)\n",
      "Collecting pyparsing>=2.3.1\n",
      "  Downloading pyparsing-3.1.1-py3-none-any.whl (103 kB)\n",
      "\u001b[2K     \u001b[90m━━━━━━━━━━━━━━━━━━━━━━━━━━━━━━━━━━━━━━\u001b[0m \u001b[32m103.1/103.1 kB\u001b[0m \u001b[31m31.4 MB/s\u001b[0m eta \u001b[36m0:00:00\u001b[0m\n",
      "\u001b[?25hCollecting kiwisolver>=1.3.1\n",
      "  Downloading kiwisolver-1.4.5-cp39-cp39-manylinux_2_12_x86_64.manylinux2010_x86_64.whl (1.6 MB)\n",
      "\u001b[2K     \u001b[90m━━━━━━━━━━━━━━━━━━━━━━━━━━━━━━━━━━━━━━━━\u001b[0m \u001b[32m1.6/1.6 MB\u001b[0m \u001b[31m44.5 MB/s\u001b[0m eta \u001b[36m0:00:00\u001b[0m00:01\u001b[0m\n",
      "\u001b[?25hCollecting cycler>=0.10\n",
      "  Downloading cycler-0.12.1-py3-none-any.whl (8.3 kB)\n",
      "Collecting importlib-resources>=3.2.0\n",
      "  Downloading importlib_resources-6.1.1-py3-none-any.whl (33 kB)\n",
      "Collecting contourpy>=1.0.1\n",
      "  Downloading contourpy-1.2.0-cp39-cp39-manylinux_2_17_x86_64.manylinux2014_x86_64.whl (310 kB)\n",
      "\u001b[2K     \u001b[90m━━━━━━━━━━━━━━━━━━━━━━━━━━━━━━━━━━━━━━\u001b[0m \u001b[32m311.0/311.0 kB\u001b[0m \u001b[31m34.1 MB/s\u001b[0m eta \u001b[36m0:00:00\u001b[0m\n",
      "\u001b[?25hCollecting pytz>=2020.1\n",
      "  Downloading pytz-2023.3.post1-py2.py3-none-any.whl (502 kB)\n",
      "\u001b[2K     \u001b[90m━━━━━━━━━━━━━━━━━━━━━━━━━━━━━━━━━━━━━━\u001b[0m \u001b[32m502.5/502.5 kB\u001b[0m \u001b[31m37.5 MB/s\u001b[0m eta \u001b[36m0:00:00\u001b[0m\n",
      "\u001b[?25hCollecting tzdata>=2022.1\n",
      "  Downloading tzdata-2023.3-py2.py3-none-any.whl (341 kB)\n",
      "\u001b[2K     \u001b[90m━━━━━━━━━━━━━━━━━━━━━━━━━━━━━━━━━━━━━━\u001b[0m \u001b[32m341.8/341.8 kB\u001b[0m \u001b[31m57.2 MB/s\u001b[0m eta \u001b[36m0:00:00\u001b[0m\n",
      "\u001b[?25hRequirement already satisfied: idna<4,>=2.5 in /usr/local/lib/python3.9/site-packages (from requests>=2.23.0->ultralytics) (3.4)\n",
      "Requirement already satisfied: urllib3<3,>=1.21.1 in /usr/local/lib/python3.9/site-packages (from requests>=2.23.0->ultralytics) (2.0.7)\n",
      "Requirement already satisfied: charset-normalizer<4,>=2 in /usr/local/lib/python3.9/site-packages (from requests>=2.23.0->ultralytics) (3.3.2)\n",
      "Requirement already satisfied: certifi>=2017.4.17 in /usr/local/lib/python3.9/site-packages (from requests>=2.23.0->ultralytics) (2023.7.22)\n",
      "Requirement already satisfied: typing-extensions in /usr/local/lib/python3.9/site-packages (from torch>=1.8.0->ultralytics) (4.8.0)\n",
      "Collecting nvidia-cudnn-cu12==8.9.2.26\n",
      "  Downloading nvidia_cudnn_cu12-8.9.2.26-py3-none-manylinux1_x86_64.whl (731.7 MB)\n",
      "\u001b[2K     \u001b[90m━━━━━━━━━━━━━━━━━━━━━━━━━━━━━━━━━━━━━\u001b[0m \u001b[32m731.7/731.7 MB\u001b[0m \u001b[31m697.2 kB/s\u001b[0m eta \u001b[36m0:00:00\u001b[0m00:01\u001b[0m00:01\u001b[0m\n",
      "\u001b[?25hCollecting nvidia-curand-cu12==10.3.2.106\n",
      "  Downloading nvidia_curand_cu12-10.3.2.106-py3-none-manylinux1_x86_64.whl (56.5 MB)\n",
      "\u001b[2K     \u001b[90m━━━━━━━━━━━━━━━━━━━━━━━━━━━━━━━━━━━━━━━━\u001b[0m \u001b[32m56.5/56.5 MB\u001b[0m \u001b[31m6.8 MB/s\u001b[0m eta \u001b[36m0:00:00\u001b[0m:00:01\u001b[0m00:01\u001b[0m\n",
      "\u001b[?25hCollecting nvidia-cusolver-cu12==11.4.5.107\n",
      "  Downloading nvidia_cusolver_cu12-11.4.5.107-py3-none-manylinux1_x86_64.whl (124.2 MB)\n",
      "\u001b[2K     \u001b[90m━━━━━━━━━━━━━━━━━━━━━━━━━━━━━━━━━━━━━━━\u001b[0m \u001b[32m124.2/124.2 MB\u001b[0m \u001b[31m7.3 MB/s\u001b[0m eta \u001b[36m0:00:00\u001b[0m00:01\u001b[0m00:01\u001b[0m\n",
      "\u001b[?25hCollecting fsspec\n",
      "  Downloading fsspec-2023.10.0-py3-none-any.whl (166 kB)\n",
      "\u001b[2K     \u001b[90m━━━━━━━━━━━━━━━━━━━━━━━━━━━━━━━━━━━━━━\u001b[0m \u001b[32m166.4/166.4 kB\u001b[0m \u001b[31m23.9 MB/s\u001b[0m eta \u001b[36m0:00:00\u001b[0m\n",
      "\u001b[?25hCollecting sympy\n",
      "  Downloading sympy-1.12-py3-none-any.whl (5.7 MB)\n",
      "\u001b[2K     \u001b[90m━━━━━━━━━━━━━━━━━━━━━━━━━━━━━━━━━━━━━━━━\u001b[0m \u001b[32m5.7/5.7 MB\u001b[0m \u001b[31m23.6 MB/s\u001b[0m eta \u001b[36m0:00:00\u001b[0m00:01\u001b[0m00:01\u001b[0m\n",
      "\u001b[?25hCollecting nvidia-cuda-runtime-cu12==12.1.105\n",
      "  Downloading nvidia_cuda_runtime_cu12-12.1.105-py3-none-manylinux1_x86_64.whl (823 kB)\n",
      "\u001b[2K     \u001b[90m━━━━━━━━━━━━━━━━━━━━━━━━━━━━━━━━━━━━━━\u001b[0m \u001b[32m823.6/823.6 kB\u001b[0m \u001b[31m65.5 MB/s\u001b[0m eta \u001b[36m0:00:00\u001b[0m\n",
      "\u001b[?25hCollecting triton==2.1.0\n",
      "  Downloading triton-2.1.0-0-cp39-cp39-manylinux2014_x86_64.manylinux_2_17_x86_64.whl (89.3 MB)\n",
      "\u001b[2K     \u001b[90m━━━━━━━━━━━━━━━━━━━━━━━━━━━━━━━━━━━━━━━━\u001b[0m \u001b[32m89.3/89.3 MB\u001b[0m \u001b[31m7.9 MB/s\u001b[0m eta \u001b[36m0:00:00\u001b[0m:00:01\u001b[0m00:01\u001b[0m\n",
      "\u001b[?25hCollecting nvidia-nccl-cu12==2.18.1\n",
      "  Downloading nvidia_nccl_cu12-2.18.1-py3-none-manylinux1_x86_64.whl (209.8 MB)\n",
      "\u001b[2K     \u001b[90m━━━━━━━━━━━━━━━━━━━━━━━━━━━━━━━━━━━━━━━\u001b[0m \u001b[32m209.8/209.8 MB\u001b[0m \u001b[31m2.8 MB/s\u001b[0m eta \u001b[36m0:00:00\u001b[0m00:01\u001b[0m00:01\u001b[0m\n",
      "\u001b[?25hCollecting nvidia-cusparse-cu12==12.1.0.106\n",
      "  Downloading nvidia_cusparse_cu12-12.1.0.106-py3-none-manylinux1_x86_64.whl (196.0 MB)\n",
      "\u001b[2K     \u001b[90m━━━━━━━━━━━━━━━━━━━━━━━━━━━━━━━━━━━━━━━\u001b[0m \u001b[32m196.0/196.0 MB\u001b[0m \u001b[31m6.2 MB/s\u001b[0m eta \u001b[36m0:00:00\u001b[0m00:01\u001b[0m00:01\u001b[0m\n",
      "\u001b[?25hCollecting nvidia-cufft-cu12==11.0.2.54\n",
      "  Downloading nvidia_cufft_cu12-11.0.2.54-py3-none-manylinux1_x86_64.whl (121.6 MB)\n",
      "\u001b[2K     \u001b[90m━━━━━━━━━━━━━━━━━━━━━━━━━━━━━━━━━━━━━━\u001b[0m \u001b[32m121.6/121.6 MB\u001b[0m \u001b[31m10.2 MB/s\u001b[0m eta \u001b[36m0:00:00\u001b[0m00:01\u001b[0m00:01\u001b[0m\n",
      "\u001b[?25hCollecting filelock\n",
      "  Downloading filelock-3.13.1-py3-none-any.whl (11 kB)\n",
      "Collecting nvidia-cublas-cu12==12.1.3.1\n",
      "  Downloading nvidia_cublas_cu12-12.1.3.1-py3-none-manylinux1_x86_64.whl (410.6 MB)\n",
      "\u001b[2K     \u001b[90m━━━━━━━━━━━━━━━━━━━━━━━━━━━━━━━━━━━━━━━\u001b[0m \u001b[32m410.6/410.6 MB\u001b[0m \u001b[31m2.0 MB/s\u001b[0m eta \u001b[36m0:00:00\u001b[0m00:01\u001b[0m00:01\u001b[0m\n",
      "\u001b[?25hRequirement already satisfied: jinja2 in /usr/local/lib/python3.9/site-packages (from torch>=1.8.0->ultralytics) (3.1.2)\n",
      "Collecting nvidia-cuda-cupti-cu12==12.1.105\n",
      "  Downloading nvidia_cuda_cupti_cu12-12.1.105-py3-none-manylinux1_x86_64.whl (14.1 MB)\n",
      "\u001b[2K     \u001b[90m━━━━━━━━━━━━━━━━━━━━━━━━━━━━━━━━━━━━━━━━\u001b[0m \u001b[32m14.1/14.1 MB\u001b[0m \u001b[31m33.2 MB/s\u001b[0m eta \u001b[36m0:00:00\u001b[0m00:01\u001b[0m00:01\u001b[0m\n",
      "\u001b[?25hCollecting nvidia-cuda-nvrtc-cu12==12.1.105\n",
      "  Downloading nvidia_cuda_nvrtc_cu12-12.1.105-py3-none-manylinux1_x86_64.whl (23.7 MB)\n",
      "\u001b[2K     \u001b[90m━━━━━━━━━━━━━━━━━━━━━━━━━━━━━━━━━━━━━━━━\u001b[0m \u001b[32m23.7/23.7 MB\u001b[0m \u001b[31m35.2 MB/s\u001b[0m eta \u001b[36m0:00:00\u001b[0m00:01\u001b[0m00:01\u001b[0m\n",
      "\u001b[?25hCollecting networkx\n",
      "  Downloading networkx-3.2.1-py3-none-any.whl (1.6 MB)\n",
      "\u001b[2K     \u001b[90m━━━━━━━━━━━━━━━━━━━━━━━━━━━━━━━━━━━━━━━━\u001b[0m \u001b[32m1.6/1.6 MB\u001b[0m \u001b[31m38.6 MB/s\u001b[0m eta \u001b[36m0:00:00\u001b[0m00:01\u001b[0m\n",
      "\u001b[?25hCollecting nvidia-nvtx-cu12==12.1.105\n",
      "  Downloading nvidia_nvtx_cu12-12.1.105-py3-none-manylinux1_x86_64.whl (99 kB)\n",
      "\u001b[2K     \u001b[90m━━━━━━━━━━━━━━━━━━━━━━━━━━━━━━━━━━━━━━━━\u001b[0m \u001b[32m99.1/99.1 kB\u001b[0m \u001b[31m18.8 MB/s\u001b[0m eta \u001b[36m0:00:00\u001b[0m\n",
      "\u001b[?25hCollecting nvidia-nvjitlink-cu12\n",
      "  Downloading nvidia_nvjitlink_cu12-12.3.52-py3-none-manylinux1_x86_64.whl (20.5 MB)\n",
      "\u001b[2K     \u001b[90m━━━━━━━━━━━━━━━━━━━━━━━━━━━━━━━━━━━━━━━━\u001b[0m \u001b[32m20.5/20.5 MB\u001b[0m \u001b[31m36.9 MB/s\u001b[0m eta \u001b[36m0:00:00\u001b[0m00:01\u001b[0m00:01\u001b[0m\n",
      "\u001b[?25hRequirement already satisfied: zipp>=3.1.0 in /usr/local/lib/python3.9/site-packages (from importlib-resources>=3.2.0->matplotlib>=3.3.0->ultralytics) (3.17.0)\n",
      "Requirement already satisfied: six>=1.5 in /usr/local/lib/python3.9/site-packages (from python-dateutil>=2.7->matplotlib>=3.3.0->ultralytics) (1.16.0)\n",
      "Requirement already satisfied: MarkupSafe>=2.0 in /usr/local/lib/python3.9/site-packages (from jinja2->torch>=1.8.0->ultralytics) (2.1.3)\n",
      "Collecting mpmath>=0.19\n",
      "  Downloading mpmath-1.3.0-py3-none-any.whl (536 kB)\n",
      "\u001b[2K     \u001b[90m━━━━━━━━━━━━━━━━━━━━━━━━━━━━━━━━━━━━━━\u001b[0m \u001b[32m536.2/536.2 kB\u001b[0m \u001b[31m46.3 MB/s\u001b[0m eta \u001b[36m0:00:00\u001b[0m\n",
      "\u001b[?25hInstalling collected packages: pytz, py-cpuinfo, mpmath, tzdata, tqdm, sympy, pyparsing, pillow, nvidia-nvtx-cu12, nvidia-nvjitlink-cu12, nvidia-nccl-cu12, nvidia-curand-cu12, nvidia-cufft-cu12, nvidia-cuda-runtime-cu12, nvidia-cuda-nvrtc-cu12, nvidia-cuda-cupti-cu12, nvidia-cublas-cu12, numpy, networkx, kiwisolver, importlib-resources, fsspec, fonttools, filelock, cycler, triton, scipy, pandas, opencv-python, nvidia-cusparse-cu12, nvidia-cudnn-cu12, contourpy, nvidia-cusolver-cu12, matplotlib, torch, seaborn, torchvision, thop, ultralytics\n",
      "Successfully installed contourpy-1.2.0 cycler-0.12.1 filelock-3.13.1 fonttools-4.44.0 fsspec-2023.10.0 importlib-resources-6.1.1 kiwisolver-1.4.5 matplotlib-3.8.1 mpmath-1.3.0 networkx-3.2.1 numpy-1.26.2 nvidia-cublas-cu12-12.1.3.1 nvidia-cuda-cupti-cu12-12.1.105 nvidia-cuda-nvrtc-cu12-12.1.105 nvidia-cuda-runtime-cu12-12.1.105 nvidia-cudnn-cu12-8.9.2.26 nvidia-cufft-cu12-11.0.2.54 nvidia-curand-cu12-10.3.2.106 nvidia-cusolver-cu12-11.4.5.107 nvidia-cusparse-cu12-12.1.0.106 nvidia-nccl-cu12-2.18.1 nvidia-nvjitlink-cu12-12.3.52 nvidia-nvtx-cu12-12.1.105 opencv-python-4.8.1.78 pandas-2.1.3 pillow-10.1.0 py-cpuinfo-9.0.0 pyparsing-3.1.1 pytz-2023.3.post1 scipy-1.11.3 seaborn-0.13.0 sympy-1.12 thop-0.1.1.post2209072238 torch-2.1.0 torchvision-0.16.0 tqdm-4.66.1 triton-2.1.0 tzdata-2023.3 ultralytics-8.0.208\n",
      "\u001b[33mWARNING: Running pip as the 'root' user can result in broken permissions and conflicting behaviour with the system package manager. It is recommended to use a virtual environment instead: https://pip.pypa.io/warnings/venv\u001b[0m\u001b[33m\n",
      "\u001b[0m\n",
      "\u001b[1m[\u001b[0m\u001b[34;49mnotice\u001b[0m\u001b[1;39;49m]\u001b[0m\u001b[39;49m A new release of pip is available: \u001b[0m\u001b[31;49m23.0.1\u001b[0m\u001b[39;49m -> \u001b[0m\u001b[32;49m23.3.1\u001b[0m\n",
      "\u001b[1m[\u001b[0m\u001b[34;49mnotice\u001b[0m\u001b[1;39;49m]\u001b[0m\u001b[39;49m To update, run: \u001b[0m\u001b[32;49mpip install --upgrade pip\u001b[0m\n"
     ]
    }
   ],
   "source": [
    "!pip3 install ultralytics"
   ]
  },
  {
   "cell_type": "code",
   "execution_count": 4,
   "id": "fd4c7f3c-f306-46a5-a3f0-087c24ed0d3f",
   "metadata": {
    "collapsed": true,
    "jupyter": {
     "outputs_hidden": true
    },
    "scrolled": true
   },
   "outputs": [
    {
     "name": "stdout",
     "output_type": "stream",
     "text": [
      "Collecting opencv-python-headless==4.5.3.56\n",
      "  Downloading opencv_python_headless-4.5.3.56-cp39-cp39-manylinux2014_x86_64.whl (37.1 MB)\n",
      "\u001b[2K     \u001b[90m━━━━━━━━━━━━━━━━━━━━━━━━━━━━━━━━━━━━━━━━\u001b[0m \u001b[32m37.1/37.1 MB\u001b[0m \u001b[31m3.8 MB/s\u001b[0m eta \u001b[36m0:00:00\u001b[0m:00:01\u001b[0m00:01\u001b[0m\n",
      "\u001b[?25hRequirement already satisfied: numpy>=1.19.3 in /usr/local/lib/python3.9/site-packages (from opencv-python-headless==4.5.3.56) (1.26.2)\n",
      "Installing collected packages: opencv-python-headless\n",
      "Successfully installed opencv-python-headless-4.5.3.56\n",
      "\u001b[33mWARNING: Running pip as the 'root' user can result in broken permissions and conflicting behaviour with the system package manager. It is recommended to use a virtual environment instead: https://pip.pypa.io/warnings/venv\u001b[0m\u001b[33m\n",
      "\u001b[0m\n",
      "\u001b[1m[\u001b[0m\u001b[34;49mnotice\u001b[0m\u001b[1;39;49m]\u001b[0m\u001b[39;49m A new release of pip is available: \u001b[0m\u001b[31;49m23.0.1\u001b[0m\u001b[39;49m -> \u001b[0m\u001b[32;49m23.3.1\u001b[0m\n",
      "\u001b[1m[\u001b[0m\u001b[34;49mnotice\u001b[0m\u001b[1;39;49m]\u001b[0m\u001b[39;49m To update, run: \u001b[0m\u001b[32;49mpip install --upgrade pip\u001b[0m\n"
     ]
    }
   ],
   "source": [
    "!pip3 install opencv-python-headless==4.5.3.56"
   ]
  },
  {
   "cell_type": "code",
   "execution_count": 5,
   "id": "6edcc5e8-07ff-438d-8d30-834e07300cc7",
   "metadata": {},
   "outputs": [
    {
     "name": "stderr",
     "output_type": "stream",
     "text": [
      "Ultralytics YOLOv8.0.208 🚀 Python-3.9.18 torch-2.1.0+cu121 CPU (Intel Core(TM) i5-8259U 2.30GHz)\n",
      "Setup complete ✅ (8 CPUs, 7.8 GB RAM, 36.0/117.0 GB disk)\n"
     ]
    }
   ],
   "source": [
    "import os\n",
    "import cv2\n",
    "import random\n",
    "import numpy as np\n",
    "import pandas as pd\n",
    "from tqdm import tqdm\n",
    "import shutil\n",
    "from shutil import copyfile\n",
    "import matplotlib.pyplot as plt\n",
    "from matplotlib import animation, rc\n",
    "rc('animation', html='jshtml')\n",
    "from PIL import Image\n",
    "import ultralytics\n",
    "from ultralytics import YOLO\n",
    "ultralytics.checks()"
   ]
  },
  {
   "cell_type": "markdown",
   "id": "6d30d15f-0015-4ff1-b932-e636d0cfb455",
   "metadata": {},
   "source": [
    "## Get the dataset"
   ]
  },
  {
   "cell_type": "markdown",
   "id": "097cbb90-52e2-4517-bb21-66d48d36fbc1",
   "metadata": {},
   "source": [
    "Here I use the dataset \"Drone Dataset (UAV)\" and download it from \"https://www.kaggle.com/datasets/dasmehdixtr/drone-dataset-uav/data\". Then, we can get a folder called \"archive\" which including two folders \"dataset_xml_format\" and \"drone_dataset_yolo\"."
   ]
  },
  {
   "cell_type": "code",
   "execution_count": 28,
   "id": "e0f297e1-f254-47d8-bad7-e0de72a78768",
   "metadata": {},
   "outputs": [],
   "source": [
    "!mkdir datasets\n",
    "!mkdir datasets/train\n",
    "!mkdir datasets/valid\n",
    "!mkdir datasets/test\n",
    "\n",
    "train_path='datasets/train/'\n",
    "valid_path='datasets/valid/'\n",
    "test_path='datasets/test/'"
   ]
  },
  {
   "cell_type": "code",
   "execution_count": 52,
   "id": "3cef1f06-92dd-45c5-a9be-9f24d2cc107c",
   "metadata": {
    "scrolled": true
   },
   "outputs": [
    {
     "name": "stdout",
     "output_type": "stream",
     "text": [
      "1000\n",
      "[12, 283, 669, 84, 847, 150, 626, 694, 405, 510, 558, 890, 153, 24, 178, 485, 937, 334, 807, 557, 768, 830, 920, 21, 309, 970, 492, 797, 906, 836, 901, 333, 93, 571, 303, 434, 940, 450, 771, 916, 997, 584, 871, 810, 158, 679, 304, 52, 117, 469, 764, 19, 231, 250, 969, 360, 659, 327, 118, 727, 564, 18, 230, 978, 740, 820, 218, 703, 627, 346, 256, 222, 416, 556, 45, 176, 640, 785, 801, 152, 277, 823, 406, 495, 135, 512, 698, 900, 272, 127, 412, 195, 967, 543, 620, 200, 843, 527, 775, 74, 22, 292, 328, 107, 748, 781, 164, 65, 474, 572, 418, 300, 728, 297, 723, 914, 369, 580, 408, 138, 373, 201, 190, 958, 752, 147, 707, 291, 865, 289, 214, 368, 600, 494, 518, 116, 855, 786, 142, 239, 0, 743, 9, 229, 444, 63, 731, 157, 414, 581, 463, 332, 670, 83, 146, 951, 318, 123, 38, 554, 275, 335, 962, 295, 641, 56, 762, 60, 658, 794, 262, 568, 593, 700, 757, 228, 473, 548, 617, 207, 180, 725, 742, 10, 173, 717, 661, 793, 267, 938, 846, 209, 857, 783, 484, 98, 895, 220, 623, 266, 366, 338, 233, 247, 489, 172, 839, 411, 145, 767, 324, 451, 732, 835, 860, 975, 30, 674, 943, 711, 91, 390, 232, 525, 666, 676, 550, 930, 653, 371, 894, 515, 144, 621, 988, 582, 88, 238, 476, 533, 875, 99, 79, 531, 372, 340, 462, 216, 23, 380, 236, 706, 186, 631, 120, 243, 423, 217, 965, 457, 737, 526, 280, 945, 813, 868, 401, 956, 899, 453, 601, 579, 570, 389, 904, 86, 702, 43, 942, 385, 777, 140, 787, 271, 329, 825, 924, 692, 688, 455, 790, 883, 103, 354, 539, 662, 383, 834, 625, 197, 976, 97, 952, 829, 482, 132, 403, 26, 628, 466, 11, 833, 869, 714, 603, 827, 402, 71, 576, 62, 168, 305, 189, 770, 264, 17, 299, 7, 420, 652, 90, 370, 926, 94, 342, 252, 592, 381, 183, 224, 667, 175, 936, 992, 341, 355, 32, 565, 902, 729, 427, 799, 66, 931, 432, 87, 898, 447, 4, 298, 819, 452, 29, 567, 893, 396, 923, 464, 395, 501, 575, 908, 42, 821, 950, 520, 161, 559, 826, 388, 115, 636, 80, 100, 505, 766, 854, 237, 887, 36, 208, 431, 608, 759, 294, 72, 211, 861, 671, 33, 61, 824, 547, 619, 910, 225, 212, 697, 286, 191, 583, 630, 791, 744, 545, 840, 844, 257, 358, 508, 693, 534, 347, 963, 961, 378, 960, 192, 108, 54, 76, 470, 296, 741, 507, 34, 529, 433, 64, 273, 356, 521, 392, 181, 673, 241, 313, 206, 67, 735, 41, 798, 614, 772, 48, 439, 809, 349, 761, 105, 194, 966, 268, 337, 949, 911, 128, 660, 604, 602, 769, 69, 987, 468, 68, 998, 811, 438, 253, 242, 320, 481, 528, 491, 376, 57, 348, 226, 394, 55, 719, 96, 133, 915, 443, 971, 941, 795, 892, 921, 665, 981, 199, 845, 428, 683, 155, 657, 386, 109, 613, 953, 85, 3, 312, 841, 165, 426, 817, 95, 478, 25, 634, 487, 710, 315, 35, 933, 516, 585, 986, 919, 828, 367, 569, 421, 344, 859, 709, 265, 739, 792, 922, 885, 379, 263, 530, 51, 308, 598, 260, 440, 677, 77, 939, 713, 322, 886, 417, 755, 248, 882, 513, 500, 644, 174, 169, 387, 984, 760, 177, 167, 838, 566, 594, 796, 459, 925, 615, 959, 435, 293, 129, 968, 541, 449, 497, 213, 812, 612, 995, 352, 27, 597, 274, 849, 154, 858, 240, 610, 864, 805, 535, 973, 989, 509, 913, 647, 678, 285, 259, 935, 131, 648, 816, 475, 28, 573, 680, 749, 137, 235, 645, 391, 891, 884, 689, 314, 141, 947, 616, 696, 852, 856, 1, 599, 20, 205, 867, 424, 983, 780, 546, 705, 668, 588, 437, 188, 467, 774, 873, 53, 430, 44, 979, 365, 446, 58, 870, 249, 802, 651, 163, 78, 171, 853, 736, 353, 905, 561, 498, 119, 562, 788, 179, 486, 722, 523, 877, 166, 244, 503, 690, 106, 618, 831, 162, 691, 808, 866, 227, 196, 746, 471, 972, 472, 393, 151, 511, 753]\n",
      "[130, 704, 778, 47, 496, 643, 122, 776, 990, 409, 422, 425, 672, 301, 918, 290, 407, 198, 419, 436, 193, 540, 784, 814, 499, 656, 758, 822, 110, 234, 537, 187, 880, 553, 524, 445, 879, 980, 664, 874, 738, 591, 134, 400, 624, 642, 136, 638, 81, 750, 350, 928, 994, 321, 734, 384, 325, 102, 650, 876, 215, 782, 245, 15, 502, 323, 532, 6, 955, 934, 104, 13, 359, 751, 587, 59, 182, 655, 551, 712, 800, 204, 375, 544, 361, 684, 649, 519, 596, 203, 331, 125, 124, 113, 465, 70, 317, 964, 8, 258, 863, 878, 687, 114, 607, 724, 281, 219, 50, 504, 287, 686, 888, 170, 773, 490, 675, 514, 730, 82, 605, 40, 454, 270, 310, 269, 49, 363, 632, 2, 590, 837, 399, 763, 716, 629, 139, 954, 221, 410, 39, 586, 319, 311, 699, 993, 974, 806, 682, 251, 654, 932, 184, 779, 903, 996, 261, 398, 456, 563, 747, 595, 362, 635, 803, 912, 364, 246, 282, 517, 896, 944, 14, 92, 185, 851, 862, 756, 46, 149, 377, 897, 715, 681, 480, 999, 374, 948, 330, 404, 733, 415, 842, 663, 708, 448, 611, 159, 589, 483]\n",
      "[397, 223, 89, 639, 288, 872, 75, 685, 848, 850, 560, 609, 549, 382, 345, 577, 121, 907, 126, 488, 720, 929, 156, 633, 946, 101, 302, 745, 279, 646, 458, 306, 606, 991, 637, 143, 815, 957, 477, 351, 460, 881, 765, 16, 210, 336, 326, 789, 701, 112, 202, 726, 917, 429, 889, 493, 536, 718, 622, 479, 284, 316, 37, 552, 461, 506, 538, 160, 927, 982, 832, 343, 442, 695, 818, 278, 254, 339, 574, 804, 357, 276, 578, 73, 148, 413, 555, 542, 307, 754, 522, 5, 441, 977, 721, 255, 909, 985, 111, 31]\n"
     ]
    }
   ],
   "source": [
    "ano_paths=[]\n",
    "for dirname, _, filenames in os.walk('archive/drone_dataset_yolo/dataset_txt'):\n",
    "    for filename in filenames:\n",
    "        if filename[-4:]=='.txt':\n",
    "            ano_paths+=[(os.path.join(dirname, filename))]\n",
    "        \n",
    "n=1000#len(ano_paths) \n",
    "print(n)\n",
    "N=list(range(n))\n",
    "random.shuffle(N)\n",
    "\n",
    "train_ratio = 0.7\n",
    "valid_ratio = 0.2\n",
    "test_ratio = 0.1\n",
    "\n",
    "train_size = int(train_ratio*n)\n",
    "valid_size = int(valid_ratio*n)\n",
    "\n",
    "train_i = N[:train_size]\n",
    "valid_i = N[train_size:train_size+valid_size]\n",
    "test_i = N[train_size+valid_size:]\n",
    "\n",
    "print(train_i)\n",
    "print(valid_i)\n",
    "print(test_i)"
   ]
  },
  {
   "cell_type": "code",
   "execution_count": 53,
   "id": "97c4f30e-2104-4210-99f1-2100b3ff2e19",
   "metadata": {},
   "outputs": [
    {
     "name": "stdout",
     "output_type": "stream",
     "text": [
      "700\n",
      "1359\n"
     ]
    }
   ],
   "source": [
    "print(len(train_i))\n",
    "print(len(ano_paths))"
   ]
  },
  {
   "cell_type": "code",
   "execution_count": 54,
   "id": "cc4ee793-775c-419d-9c8a-33dfe574b3e4",
   "metadata": {},
   "outputs": [
    {
     "name": "stdout",
     "output_type": "stream",
     "text": [
      "1400\n"
     ]
    }
   ],
   "source": [
    "for i in train_i:\n",
    "    ano_path=ano_paths[i]\n",
    "    img_path=os.path.join('archive/drone_dataset_yolo/dataset_txt',\n",
    "                          ano_path.split('/')[-1][0:-4]+'.jpg')\n",
    "    try:\n",
    "        !cp {ano_path} {train_path}\n",
    "        !cp {img_path} {train_path}\n",
    "    except:\n",
    "        continue\n",
    "print(len(os.listdir(train_path)))"
   ]
  },
  {
   "cell_type": "code",
   "execution_count": 55,
   "id": "4faa73e3-9ce1-4585-99f6-73f12e2ab838",
   "metadata": {},
   "outputs": [
    {
     "name": "stdout",
     "output_type": "stream",
     "text": [
      "200\n"
     ]
    }
   ],
   "source": [
    "for i in test_i:\n",
    "    ano_path=ano_paths[i]\n",
    "    img_path=os.path.join('archive/drone_dataset_yolo/dataset_txt',\n",
    "                          ano_path.split('/')[-1][0:-4]+'.jpg')\n",
    "    try:\n",
    "        !cp {ano_path} {test_path}\n",
    "        !cp {img_path} {test_path}\n",
    "    except:\n",
    "        continue\n",
    "print(len(os.listdir(test_path)))   "
   ]
  },
  {
   "cell_type": "code",
   "execution_count": 56,
   "id": "3c58e141-71c5-4b89-b212-1ead1c37b57c",
   "metadata": {},
   "outputs": [
    {
     "name": "stdout",
     "output_type": "stream",
     "text": [
      "400\n"
     ]
    }
   ],
   "source": [
    "for i in valid_i:\n",
    "    ano_path=ano_paths[i]\n",
    "    img_path=os.path.join('archive/drone_dataset_yolo/dataset_txt',\n",
    "                          ano_path.split('/')[-1][0:-4]+'.jpg')\n",
    "    try:\n",
    "        !cp {ano_path} {valid_path}\n",
    "        !cp {img_path} {valid_path}\n",
    "    except:\n",
    "        continue\n",
    "print(len(os.listdir(valid_path)))"
   ]
  },
  {
   "cell_type": "code",
   "execution_count": 57,
   "id": "68eff861-c4ee-43b7-bfa0-ed2da68498f5",
   "metadata": {},
   "outputs": [
    {
     "name": "stdout",
     "output_type": "stream",
     "text": [
      "{names: [drone], nc: 1, test: test, train: train, val: valid}\n"
     ]
    }
   ],
   "source": [
    "import yaml\n",
    "\n",
    "data_yaml = dict(\n",
    "    train ='train',\n",
    "    val ='valid',\n",
    "    test='test',\n",
    "    nc =1,\n",
    "    names =['drone']\n",
    ")\n",
    "\n",
    "with open('data.yaml', 'w') as outfile:\n",
    "    yaml.dump(data_yaml, outfile, default_flow_style=True)\n",
    "    \n",
    "%cat data.yaml"
   ]
  },
  {
   "cell_type": "code",
   "execution_count": 6,
   "id": "613badc6-d50b-4f8b-9092-1f164b52bd52",
   "metadata": {},
   "outputs": [],
   "source": [
    "names =['drone']\n",
    "M=list(range(len(names)))\n",
    "class_map=dict(zip(M,names))"
   ]
  },
  {
   "cell_type": "markdown",
   "id": "c672c7f7-c448-4f7e-927d-1c815e9240d4",
   "metadata": {},
   "source": [
    "## Model"
   ]
  },
  {
   "cell_type": "markdown",
   "id": "a2f621db-c501-416e-9ca6-488aa4ce5a1f",
   "metadata": {},
   "source": [
    "Here I use the  YOLOv8 model."
   ]
  },
  {
   "cell_type": "code",
   "execution_count": 7,
   "id": "368dda46-fc0b-40a1-8128-70f172112d12",
   "metadata": {},
   "outputs": [],
   "source": [
    "model = YOLO(\"yolov8x.pt\") "
   ]
  },
  {
   "cell_type": "code",
   "execution_count": 16,
   "id": "c0d4f15e-2d38-472d-9e77-7f7a211e4188",
   "metadata": {},
   "outputs": [
    {
     "name": "stdout",
     "output_type": "stream",
     "text": [
      "Ultralytics YOLOv8.0.208 🚀 Python-3.9.18 torch-2.1.0+cu121 CPU (Intel Core(TM) i5-8259U 2.30GHz)\n",
      "\u001b[34m\u001b[1mengine/trainer: \u001b[0mtask=detect, mode=train, model=yolov8x.pt, data=data.yaml, epochs=3, patience=50, batch=16, imgsz=160, save=True, save_period=-1, cache=False, device=None, workers=8, project=None, name=train, exist_ok=False, pretrained=True, optimizer=auto, verbose=True, seed=0, deterministic=True, single_cls=False, rect=False, cos_lr=False, close_mosaic=10, resume=False, amp=True, fraction=1.0, profile=False, freeze=None, overlap_mask=True, mask_ratio=4, dropout=0.0, val=True, split=val, save_json=False, save_hybrid=False, conf=None, iou=0.7, max_det=300, half=False, dnn=False, plots=True, source=None, show=False, save_txt=False, save_conf=False, save_crop=False, show_labels=True, show_conf=True, vid_stride=1, stream_buffer=False, line_width=None, visualize=False, augment=False, agnostic_nms=False, classes=None, retina_masks=False, boxes=True, format=torchscript, keras=False, optimize=False, int8=False, dynamic=False, simplify=False, opset=None, workspace=4, nms=False, lr0=0.01, lrf=0.01, momentum=0.937, weight_decay=0.0005, warmup_epochs=3.0, warmup_momentum=0.8, warmup_bias_lr=0.1, box=7.5, cls=0.5, dfl=1.5, pose=12.0, kobj=1.0, label_smoothing=0.0, nbs=64, hsv_h=0.015, hsv_s=0.7, hsv_v=0.4, degrees=0.0, translate=0.1, scale=0.5, shear=0.0, perspective=0.0, flipud=0.0, fliplr=0.5, mosaic=1.0, mixup=0.0, copy_paste=0.0, cfg=None, tracker=botsort.yaml, save_dir=runs/detect/train\n",
      "Overriding model.yaml nc=80 with nc=1\n",
      "\n",
      "                   from  n    params  module                                       arguments                     \n",
      "  0                  -1  1      2320  ultralytics.nn.modules.conv.Conv             [3, 80, 3, 2]                 \n",
      "  1                  -1  1    115520  ultralytics.nn.modules.conv.Conv             [80, 160, 3, 2]               \n",
      "  2                  -1  3    436800  ultralytics.nn.modules.block.C2f             [160, 160, 3, True]           \n",
      "  3                  -1  1    461440  ultralytics.nn.modules.conv.Conv             [160, 320, 3, 2]              \n",
      "  4                  -1  6   3281920  ultralytics.nn.modules.block.C2f             [320, 320, 6, True]           \n",
      "  5                  -1  1   1844480  ultralytics.nn.modules.conv.Conv             [320, 640, 3, 2]              \n",
      "  6                  -1  6  13117440  ultralytics.nn.modules.block.C2f             [640, 640, 6, True]           \n",
      "  7                  -1  1   3687680  ultralytics.nn.modules.conv.Conv             [640, 640, 3, 2]              \n",
      "  8                  -1  3   6969600  ultralytics.nn.modules.block.C2f             [640, 640, 3, True]           \n",
      "  9                  -1  1   1025920  ultralytics.nn.modules.block.SPPF            [640, 640, 5]                 \n",
      " 10                  -1  1         0  torch.nn.modules.upsampling.Upsample         [None, 2, 'nearest']          \n",
      " 11             [-1, 6]  1         0  ultralytics.nn.modules.conv.Concat           [1]                           \n",
      " 12                  -1  3   7379200  ultralytics.nn.modules.block.C2f             [1280, 640, 3]                \n",
      " 13                  -1  1         0  torch.nn.modules.upsampling.Upsample         [None, 2, 'nearest']          \n",
      " 14             [-1, 4]  1         0  ultralytics.nn.modules.conv.Concat           [1]                           \n",
      " 15                  -1  3   1948800  ultralytics.nn.modules.block.C2f             [960, 320, 3]                 \n",
      " 16                  -1  1    922240  ultralytics.nn.modules.conv.Conv             [320, 320, 3, 2]              \n",
      " 17            [-1, 12]  1         0  ultralytics.nn.modules.conv.Concat           [1]                           \n",
      " 18                  -1  3   7174400  ultralytics.nn.modules.block.C2f             [960, 640, 3]                 \n",
      " 19                  -1  1   3687680  ultralytics.nn.modules.conv.Conv             [640, 640, 3, 2]              \n",
      " 20             [-1, 9]  1         0  ultralytics.nn.modules.conv.Concat           [1]                           \n",
      " 21                  -1  3   7379200  ultralytics.nn.modules.block.C2f             [1280, 640, 3]                \n",
      " 22        [15, 18, 21]  1   8718931  ultralytics.nn.modules.head.Detect           [1, [320, 640, 640]]          \n",
      "Model summary: 365 layers, 68153571 parameters, 68153555 gradients, 258.1 GFLOPs\n",
      "\n",
      "Transferred 589/595 items from pretrained weights\n",
      "Freezing layer 'model.22.dfl.conv.weight'\n",
      "\u001b[34m\u001b[1mtrain: \u001b[0mScanning /app/Assignment-3/datasets/train... 700 images, 0 backgrounds, 0\u001b[0m\n",
      "\u001b[34m\u001b[1mtrain: \u001b[0mNew cache created: /app/Assignment-3/datasets/train.cache\n",
      "\u001b[34m\u001b[1mval: \u001b[0mScanning /app/Assignment-3/datasets/valid... 200 images, 0 backgrounds, 0 c\u001b[0m\n",
      "\u001b[34m\u001b[1mval: \u001b[0mNew cache created: /app/Assignment-3/datasets/valid.cache\n",
      "Plotting labels to runs/detect/train/labels.jpg... \n",
      "\u001b[34m\u001b[1moptimizer:\u001b[0m 'optimizer=auto' found, ignoring 'lr0=0.01' and 'momentum=0.937' and determining best 'optimizer', 'lr0' and 'momentum' automatically... \n",
      "\u001b[34m\u001b[1moptimizer:\u001b[0m AdamW(lr=0.002, momentum=0.9) with parameter groups 97 weight(decay=0.0), 104 weight(decay=0.0005), 103 bias(decay=0.0)\n",
      "Image sizes 160 train, 160 val\n",
      "Using 0 dataloader workers\n",
      "Logging results to \u001b[1mruns/detect/train\u001b[0m\n",
      "Starting training for 3 epochs...\n",
      "\n",
      "      Epoch    GPU_mem   box_loss   cls_loss   dfl_loss  Instances       Size\n",
      "        1/3         0G      1.617      1.438      1.555         37        160: 1\n",
      "                 Class     Images  Instances      Box(P          R      mAP50  m\n",
      "                   all        200        222     0.0235      0.703     0.0208    0.00617\n",
      "\n",
      "      Epoch    GPU_mem   box_loss   cls_loss   dfl_loss  Instances       Size\n",
      "        2/3         0G      1.642      1.228      1.602         27        160: 1\n",
      "                 Class     Images  Instances      Box(P          R      mAP50  m\n",
      "                   all        200        222     0.0424      0.491     0.0285     0.0126\n",
      "\n",
      "      Epoch    GPU_mem   box_loss   cls_loss   dfl_loss  Instances       Size\n",
      "        3/3         0G      1.542      1.206      1.554         37        160: 1\n",
      "                 Class     Images  Instances      Box(P          R      mAP50  m\n",
      "                   all        200        222      0.727      0.685      0.748      0.368\n",
      "\n",
      "3 epochs completed in 0.379 hours.\n",
      "Optimizer stripped from runs/detect/train/weights/last.pt, 136.7MB\n",
      "Optimizer stripped from runs/detect/train/weights/best.pt, 136.7MB\n",
      "\n",
      "Validating runs/detect/train/weights/best.pt...\n",
      "Ultralytics YOLOv8.0.208 🚀 Python-3.9.18 torch-2.1.0+cu121 CPU (Intel Core(TM) i5-8259U 2.30GHz)\n",
      "Model summary (fused): 268 layers, 68124531 parameters, 0 gradients, 257.4 GFLOPs\n",
      "                 Class     Images  Instances      Box(P          R      mAP50  m\n",
      "                   all        200        222      0.724      0.685      0.748      0.369\n",
      "Speed: 0.4ms preprocess, 231.3ms inference, 0.0ms loss, 0.9ms postprocess per image\n",
      "Results saved to \u001b[1mruns/detect/train\u001b[0m\n",
      "💡 Learn more at https://docs.ultralytics.com/modes/train\n"
     ]
    }
   ],
   "source": [
    "!yolo task=detect mode=train model=yolov8x.pt data=data.yaml epochs=3 imgsz=160"
   ]
  },
  {
   "cell_type": "markdown",
   "id": "15c81327-a1dd-4780-b5f2-0fe9f47e14a4",
   "metadata": {},
   "source": [
    "## Detect the video frame"
   ]
  },
  {
   "cell_type": "markdown",
   "id": "b1b9537b-c59e-471c-aeff-0d85e586405e",
   "metadata": {},
   "source": [
    "### For video 1"
   ]
  },
  {
   "cell_type": "code",
   "execution_count": 26,
   "id": "b06018d9-c5f0-480b-b617-97b8d4f1e485",
   "metadata": {},
   "outputs": [],
   "source": [
    "best_path0='runs/detect/train/weights/best.pt'\n",
    "\n",
    "# For video 1\n",
    "source0='Drone_Tracking_1'"
   ]
  },
  {
   "cell_type": "code",
   "execution_count": 27,
   "id": "cf540c82-0226-4d2d-a71b-9d066cdceb32",
   "metadata": {},
   "outputs": [],
   "source": [
    "ppaths=[]\n",
    "for dirname, _, filenames in os.walk(source0):\n",
    "    for filename in filenames:\n",
    "        if filename[-4:]=='.jpg':\n",
    "            ppaths+=[(os.path.join(dirname, filename))]\n",
    "ppaths=sorted(ppaths)"
   ]
  },
  {
   "cell_type": "code",
   "execution_count": 28,
   "id": "e3052d24-1578-41db-9ae4-ed497bbb0351",
   "metadata": {},
   "outputs": [],
   "source": [
    "model2 = YOLO(best_path0)"
   ]
  },
  {
   "cell_type": "code",
   "execution_count": 29,
   "id": "aed4240e-04b8-4818-988b-d058a75404fe",
   "metadata": {
    "scrolled": true
   },
   "outputs": [
    {
     "name": "stdout",
     "output_type": "stream",
     "text": [
      "Ultralytics YOLOv8.0.208 🚀 Python-3.9.18 torch-2.1.0+cu121 CPU (Intel Core(TM) i5-8259U 2.30GHz)\n",
      "Model summary (fused): 268 layers, 68124531 parameters, 0 gradients, 257.4 GFLOPs\n",
      "\n",
      "image 1/100 /app/Assignment-3/Drone_Tracking_1/frame_1.jpg: 96x160 1 drone, 267.6ms\n",
      "image 2/100 /app/Assignment-3/Drone_Tracking_1/frame_10.jpg: 96x160 1 drone, 87.2ms\n",
      "image 3/100 /app/Assignment-3/Drone_Tracking_1/frame_100.jpg: 96x160 1 drone, 98.0ms\n",
      "image 4/100 /app/Assignment-3/Drone_Tracking_1/frame_11.jpg: 96x160 (no detections), 76.2ms\n",
      "image 5/100 /app/Assignment-3/Drone_Tracking_1/frame_12.jpg: 96x160 (no detections), 153.7ms\n",
      "image 6/100 /app/Assignment-3/Drone_Tracking_1/frame_13.jpg: 96x160 1 drone, 93.7ms\n",
      "image 7/100 /app/Assignment-3/Drone_Tracking_1/frame_14.jpg: 96x160 1 drone, 93.1ms\n",
      "image 8/100 /app/Assignment-3/Drone_Tracking_1/frame_15.jpg: 96x160 1 drone, 83.3ms\n",
      "image 9/100 /app/Assignment-3/Drone_Tracking_1/frame_16.jpg: 96x160 1 drone, 94.7ms\n",
      "image 10/100 /app/Assignment-3/Drone_Tracking_1/frame_17.jpg: 96x160 1 drone, 84.3ms\n",
      "image 11/100 /app/Assignment-3/Drone_Tracking_1/frame_18.jpg: 96x160 1 drone, 154.2ms\n",
      "image 12/100 /app/Assignment-3/Drone_Tracking_1/frame_19.jpg: 96x160 1 drone, 69.2ms\n",
      "image 13/100 /app/Assignment-3/Drone_Tracking_1/frame_2.jpg: 96x160 1 drone, 80.5ms\n",
      "image 14/100 /app/Assignment-3/Drone_Tracking_1/frame_20.jpg: 96x160 (no detections), 79.7ms\n",
      "image 15/100 /app/Assignment-3/Drone_Tracking_1/frame_21.jpg: 96x160 1 drone, 87.1ms\n",
      "image 16/100 /app/Assignment-3/Drone_Tracking_1/frame_22.jpg: 96x160 (no detections), 84.5ms\n",
      "image 17/100 /app/Assignment-3/Drone_Tracking_1/frame_23.jpg: 96x160 (no detections), 189.5ms\n",
      "image 18/100 /app/Assignment-3/Drone_Tracking_1/frame_24.jpg: 96x160 (no detections), 164.0ms\n",
      "image 19/100 /app/Assignment-3/Drone_Tracking_1/frame_25.jpg: 96x160 1 drone, 246.8ms\n",
      "image 20/100 /app/Assignment-3/Drone_Tracking_1/frame_26.jpg: 96x160 1 drone, 90.0ms\n",
      "image 21/100 /app/Assignment-3/Drone_Tracking_1/frame_27.jpg: 96x160 1 drone, 67.3ms\n",
      "image 22/100 /app/Assignment-3/Drone_Tracking_1/frame_28.jpg: 96x160 1 drone, 77.8ms\n",
      "image 23/100 /app/Assignment-3/Drone_Tracking_1/frame_29.jpg: 96x160 1 drone, 74.2ms\n",
      "image 24/100 /app/Assignment-3/Drone_Tracking_1/frame_3.jpg: 96x160 1 drone, 99.4ms\n",
      "image 25/100 /app/Assignment-3/Drone_Tracking_1/frame_30.jpg: 96x160 1 drone, 88.6ms\n",
      "image 26/100 /app/Assignment-3/Drone_Tracking_1/frame_31.jpg: 96x160 1 drone, 70.0ms\n",
      "image 27/100 /app/Assignment-3/Drone_Tracking_1/frame_32.jpg: 96x160 1 drone, 78.3ms\n",
      "image 28/100 /app/Assignment-3/Drone_Tracking_1/frame_33.jpg: 96x160 1 drone, 94.9ms\n",
      "image 29/100 /app/Assignment-3/Drone_Tracking_1/frame_34.jpg: 96x160 1 drone, 86.9ms\n",
      "image 30/100 /app/Assignment-3/Drone_Tracking_1/frame_35.jpg: 96x160 1 drone, 68.3ms\n",
      "image 31/100 /app/Assignment-3/Drone_Tracking_1/frame_36.jpg: 96x160 1 drone, 78.5ms\n",
      "image 32/100 /app/Assignment-3/Drone_Tracking_1/frame_37.jpg: 96x160 1 drone, 87.8ms\n",
      "image 33/100 /app/Assignment-3/Drone_Tracking_1/frame_38.jpg: 96x160 1 drone, 96.9ms\n",
      "image 34/100 /app/Assignment-3/Drone_Tracking_1/frame_39.jpg: 96x160 1 drone, 86.0ms\n",
      "image 35/100 /app/Assignment-3/Drone_Tracking_1/frame_4.jpg: 96x160 1 drone, 73.9ms\n",
      "image 36/100 /app/Assignment-3/Drone_Tracking_1/frame_40.jpg: 96x160 1 drone, 68.5ms\n",
      "image 37/100 /app/Assignment-3/Drone_Tracking_1/frame_41.jpg: 96x160 1 drone, 88.3ms\n",
      "image 38/100 /app/Assignment-3/Drone_Tracking_1/frame_42.jpg: 96x160 1 drone, 83.7ms\n",
      "image 39/100 /app/Assignment-3/Drone_Tracking_1/frame_43.jpg: 96x160 1 drone, 69.8ms\n",
      "image 40/100 /app/Assignment-3/Drone_Tracking_1/frame_44.jpg: 96x160 1 drone, 95.3ms\n",
      "image 41/100 /app/Assignment-3/Drone_Tracking_1/frame_45.jpg: 96x160 1 drone, 99.6ms\n",
      "image 42/100 /app/Assignment-3/Drone_Tracking_1/frame_46.jpg: 96x160 1 drone, 85.0ms\n",
      "image 43/100 /app/Assignment-3/Drone_Tracking_1/frame_47.jpg: 96x160 1 drone, 101.5ms\n",
      "image 44/100 /app/Assignment-3/Drone_Tracking_1/frame_48.jpg: 96x160 1 drone, 80.2ms\n",
      "image 45/100 /app/Assignment-3/Drone_Tracking_1/frame_49.jpg: 96x160 1 drone, 70.1ms\n",
      "image 46/100 /app/Assignment-3/Drone_Tracking_1/frame_5.jpg: 96x160 1 drone, 131.4ms\n",
      "image 47/100 /app/Assignment-3/Drone_Tracking_1/frame_50.jpg: 96x160 1 drone, 132.5ms\n",
      "image 48/100 /app/Assignment-3/Drone_Tracking_1/frame_51.jpg: 96x160 1 drone, 92.5ms\n",
      "image 49/100 /app/Assignment-3/Drone_Tracking_1/frame_52.jpg: 96x160 1 drone, 112.6ms\n",
      "image 50/100 /app/Assignment-3/Drone_Tracking_1/frame_53.jpg: 96x160 1 drone, 85.3ms\n",
      "image 51/100 /app/Assignment-3/Drone_Tracking_1/frame_54.jpg: 96x160 1 drone, 90.2ms\n",
      "image 52/100 /app/Assignment-3/Drone_Tracking_1/frame_55.jpg: 96x160 1 drone, 86.8ms\n",
      "image 53/100 /app/Assignment-3/Drone_Tracking_1/frame_56.jpg: 96x160 1 drone, 95.0ms\n",
      "image 54/100 /app/Assignment-3/Drone_Tracking_1/frame_57.jpg: 96x160 1 drone, 86.1ms\n",
      "image 55/100 /app/Assignment-3/Drone_Tracking_1/frame_58.jpg: 96x160 1 drone, 82.3ms\n",
      "image 56/100 /app/Assignment-3/Drone_Tracking_1/frame_59.jpg: 96x160 1 drone, 83.1ms\n",
      "image 57/100 /app/Assignment-3/Drone_Tracking_1/frame_6.jpg: 96x160 1 drone, 95.9ms\n",
      "image 58/100 /app/Assignment-3/Drone_Tracking_1/frame_60.jpg: 96x160 1 drone, 220.0ms\n",
      "image 59/100 /app/Assignment-3/Drone_Tracking_1/frame_61.jpg: 96x160 1 drone, 93.2ms\n",
      "image 60/100 /app/Assignment-3/Drone_Tracking_1/frame_62.jpg: 96x160 1 drone, 88.2ms\n",
      "image 61/100 /app/Assignment-3/Drone_Tracking_1/frame_63.jpg: 96x160 1 drone, 92.7ms\n",
      "image 62/100 /app/Assignment-3/Drone_Tracking_1/frame_64.jpg: 96x160 1 drone, 109.9ms\n",
      "image 63/100 /app/Assignment-3/Drone_Tracking_1/frame_65.jpg: 96x160 1 drone, 117.8ms\n",
      "image 64/100 /app/Assignment-3/Drone_Tracking_1/frame_66.jpg: 96x160 1 drone, 119.7ms\n",
      "image 65/100 /app/Assignment-3/Drone_Tracking_1/frame_67.jpg: 96x160 1 drone, 152.5ms\n",
      "image 66/100 /app/Assignment-3/Drone_Tracking_1/frame_68.jpg: 96x160 1 drone, 90.4ms\n",
      "image 67/100 /app/Assignment-3/Drone_Tracking_1/frame_69.jpg: 96x160 1 drone, 92.3ms\n",
      "image 68/100 /app/Assignment-3/Drone_Tracking_1/frame_7.jpg: 96x160 1 drone, 1002.5ms\n",
      "image 69/100 /app/Assignment-3/Drone_Tracking_1/frame_70.jpg: 96x160 1 drone, 132.9ms\n",
      "image 70/100 /app/Assignment-3/Drone_Tracking_1/frame_71.jpg: 96x160 1 drone, 95.3ms\n",
      "image 71/100 /app/Assignment-3/Drone_Tracking_1/frame_72.jpg: 96x160 1 drone, 100.5ms\n",
      "image 72/100 /app/Assignment-3/Drone_Tracking_1/frame_73.jpg: 96x160 1 drone, 235.2ms\n",
      "image 73/100 /app/Assignment-3/Drone_Tracking_1/frame_74.jpg: 96x160 1 drone, 79.3ms\n",
      "image 74/100 /app/Assignment-3/Drone_Tracking_1/frame_75.jpg: 96x160 1 drone, 105.7ms\n",
      "image 75/100 /app/Assignment-3/Drone_Tracking_1/frame_76.jpg: 96x160 1 drone, 239.3ms\n",
      "image 76/100 /app/Assignment-3/Drone_Tracking_1/frame_77.jpg: 96x160 1 drone, 166.3ms\n",
      "image 77/100 /app/Assignment-3/Drone_Tracking_1/frame_78.jpg: 96x160 1 drone, 218.3ms\n",
      "image 78/100 /app/Assignment-3/Drone_Tracking_1/frame_79.jpg: 96x160 1 drone, 254.6ms\n",
      "image 79/100 /app/Assignment-3/Drone_Tracking_1/frame_8.jpg: 96x160 1 drone, 106.3ms\n",
      "image 80/100 /app/Assignment-3/Drone_Tracking_1/frame_80.jpg: 96x160 1 drone, 229.2ms\n",
      "image 81/100 /app/Assignment-3/Drone_Tracking_1/frame_81.jpg: 96x160 1 drone, 159.2ms\n",
      "image 82/100 /app/Assignment-3/Drone_Tracking_1/frame_82.jpg: 96x160 1 drone, 109.4ms\n",
      "image 83/100 /app/Assignment-3/Drone_Tracking_1/frame_83.jpg: 96x160 1 drone, 98.6ms\n",
      "image 84/100 /app/Assignment-3/Drone_Tracking_1/frame_84.jpg: 96x160 1 drone, 103.0ms\n",
      "image 85/100 /app/Assignment-3/Drone_Tracking_1/frame_85.jpg: 96x160 1 drone, 105.2ms\n",
      "image 86/100 /app/Assignment-3/Drone_Tracking_1/frame_86.jpg: 96x160 1 drone, 151.3ms\n",
      "image 87/100 /app/Assignment-3/Drone_Tracking_1/frame_87.jpg: 96x160 1 drone, 174.5ms\n",
      "image 88/100 /app/Assignment-3/Drone_Tracking_1/frame_88.jpg: 96x160 1 drone, 154.1ms\n",
      "image 89/100 /app/Assignment-3/Drone_Tracking_1/frame_89.jpg: 96x160 1 drone, 124.5ms\n",
      "image 90/100 /app/Assignment-3/Drone_Tracking_1/frame_9.jpg: 96x160 1 drone, 75.9ms\n",
      "image 91/100 /app/Assignment-3/Drone_Tracking_1/frame_90.jpg: 96x160 1 drone, 232.2ms\n",
      "image 92/100 /app/Assignment-3/Drone_Tracking_1/frame_91.jpg: 96x160 1 drone, 164.6ms\n",
      "image 93/100 /app/Assignment-3/Drone_Tracking_1/frame_92.jpg: 96x160 1 drone, 159.7ms\n",
      "image 94/100 /app/Assignment-3/Drone_Tracking_1/frame_93.jpg: 96x160 1 drone, 137.5ms\n",
      "image 95/100 /app/Assignment-3/Drone_Tracking_1/frame_94.jpg: 96x160 1 drone, 168.9ms\n",
      "image 96/100 /app/Assignment-3/Drone_Tracking_1/frame_95.jpg: 96x160 1 drone, 206.0ms\n",
      "image 97/100 /app/Assignment-3/Drone_Tracking_1/frame_96.jpg: 96x160 1 drone, 280.2ms\n",
      "image 98/100 /app/Assignment-3/Drone_Tracking_1/frame_97.jpg: 96x160 1 drone, 200.1ms\n",
      "image 99/100 /app/Assignment-3/Drone_Tracking_1/frame_98.jpg: 96x160 1 drone, 164.3ms\n",
      "image 100/100 /app/Assignment-3/Drone_Tracking_1/frame_99.jpg: 96x160 1 drone, 199.1ms\n",
      "Speed: 7.5ms preprocess, 129.3ms inference, 1.2ms postprocess per image at shape (1, 3, 96, 160)\n",
      "Results saved to \u001b[1mruns/detect/predict\u001b[0m\n",
      "💡 Learn more at https://docs.ultralytics.com/modes/predict\n"
     ]
    }
   ],
   "source": [
    "!yolo task=detect mode=predict model={best_path0} conf=0.2 source={source0}"
   ]
  },
  {
   "cell_type": "code",
   "execution_count": 30,
   "id": "c949071e-c240-4656-9523-4825f9e6b4e9",
   "metadata": {
    "scrolled": true
   },
   "outputs": [
    {
     "name": "stderr",
     "output_type": "stream",
     "text": [
      "\n",
      "image 1/100 /app/Assignment-3/Drone_Tracking_1/frame_1.jpg: 96x160 1 drone, 359.4ms\n",
      "image 2/100 /app/Assignment-3/Drone_Tracking_1/frame_10.jpg: 96x160 1 drone, 89.3ms\n",
      "image 3/100 /app/Assignment-3/Drone_Tracking_1/frame_100.jpg: 96x160 1 drone, 80.8ms\n",
      "image 4/100 /app/Assignment-3/Drone_Tracking_1/frame_11.jpg: 96x160 (no detections), 79.6ms\n",
      "image 5/100 /app/Assignment-3/Drone_Tracking_1/frame_12.jpg: 96x160 (no detections), 92.4ms\n",
      "image 6/100 /app/Assignment-3/Drone_Tracking_1/frame_13.jpg: 96x160 1 drone, 76.5ms\n",
      "image 7/100 /app/Assignment-3/Drone_Tracking_1/frame_14.jpg: 96x160 1 drone, 77.8ms\n",
      "image 8/100 /app/Assignment-3/Drone_Tracking_1/frame_15.jpg: 96x160 1 drone, 80.0ms\n",
      "image 9/100 /app/Assignment-3/Drone_Tracking_1/frame_16.jpg: 96x160 1 drone, 88.5ms\n",
      "image 10/100 /app/Assignment-3/Drone_Tracking_1/frame_17.jpg: 96x160 1 drone, 101.9ms\n",
      "image 11/100 /app/Assignment-3/Drone_Tracking_1/frame_18.jpg: 96x160 1 drone, 91.9ms\n",
      "image 12/100 /app/Assignment-3/Drone_Tracking_1/frame_19.jpg: 96x160 1 drone, 83.2ms\n",
      "image 13/100 /app/Assignment-3/Drone_Tracking_1/frame_2.jpg: 96x160 1 drone, 88.1ms\n",
      "image 14/100 /app/Assignment-3/Drone_Tracking_1/frame_20.jpg: 96x160 (no detections), 78.7ms\n",
      "image 15/100 /app/Assignment-3/Drone_Tracking_1/frame_21.jpg: 96x160 1 drone, 87.7ms\n",
      "image 16/100 /app/Assignment-3/Drone_Tracking_1/frame_22.jpg: 96x160 (no detections), 85.5ms\n",
      "image 17/100 /app/Assignment-3/Drone_Tracking_1/frame_23.jpg: 96x160 (no detections), 202.7ms\n",
      "image 18/100 /app/Assignment-3/Drone_Tracking_1/frame_24.jpg: 96x160 (no detections), 94.6ms\n",
      "image 19/100 /app/Assignment-3/Drone_Tracking_1/frame_25.jpg: 96x160 1 drone, 79.2ms\n",
      "image 20/100 /app/Assignment-3/Drone_Tracking_1/frame_26.jpg: 96x160 1 drone, 231.7ms\n",
      "image 21/100 /app/Assignment-3/Drone_Tracking_1/frame_27.jpg: 96x160 1 drone, 92.3ms\n",
      "image 22/100 /app/Assignment-3/Drone_Tracking_1/frame_28.jpg: 96x160 1 drone, 87.6ms\n",
      "image 23/100 /app/Assignment-3/Drone_Tracking_1/frame_29.jpg: 96x160 1 drone, 84.8ms\n",
      "image 24/100 /app/Assignment-3/Drone_Tracking_1/frame_3.jpg: 96x160 1 drone, 296.1ms\n",
      "image 25/100 /app/Assignment-3/Drone_Tracking_1/frame_30.jpg: 96x160 1 drone, 74.1ms\n",
      "image 26/100 /app/Assignment-3/Drone_Tracking_1/frame_31.jpg: 96x160 1 drone, 96.2ms\n",
      "image 27/100 /app/Assignment-3/Drone_Tracking_1/frame_32.jpg: 96x160 1 drone, 84.4ms\n",
      "image 28/100 /app/Assignment-3/Drone_Tracking_1/frame_33.jpg: 96x160 1 drone, 279.8ms\n",
      "image 29/100 /app/Assignment-3/Drone_Tracking_1/frame_34.jpg: 96x160 1 drone, 83.4ms\n",
      "image 30/100 /app/Assignment-3/Drone_Tracking_1/frame_35.jpg: 96x160 1 drone, 93.4ms\n",
      "image 31/100 /app/Assignment-3/Drone_Tracking_1/frame_36.jpg: 96x160 1 drone, 125.3ms\n",
      "image 32/100 /app/Assignment-3/Drone_Tracking_1/frame_37.jpg: 96x160 1 drone, 116.6ms\n",
      "image 33/100 /app/Assignment-3/Drone_Tracking_1/frame_38.jpg: 96x160 1 drone, 124.3ms\n",
      "image 34/100 /app/Assignment-3/Drone_Tracking_1/frame_39.jpg: 96x160 1 drone, 120.8ms\n",
      "image 35/100 /app/Assignment-3/Drone_Tracking_1/frame_4.jpg: 96x160 1 drone, 114.3ms\n",
      "image 36/100 /app/Assignment-3/Drone_Tracking_1/frame_40.jpg: 96x160 1 drone, 107.3ms\n",
      "image 37/100 /app/Assignment-3/Drone_Tracking_1/frame_41.jpg: 96x160 1 drone, 117.7ms\n",
      "image 38/100 /app/Assignment-3/Drone_Tracking_1/frame_42.jpg: 96x160 1 drone, 213.4ms\n",
      "image 39/100 /app/Assignment-3/Drone_Tracking_1/frame_43.jpg: 96x160 1 drone, 215.9ms\n",
      "image 40/100 /app/Assignment-3/Drone_Tracking_1/frame_44.jpg: 96x160 1 drone, 124.2ms\n",
      "image 41/100 /app/Assignment-3/Drone_Tracking_1/frame_45.jpg: 96x160 1 drone, 200.4ms\n",
      "image 42/100 /app/Assignment-3/Drone_Tracking_1/frame_46.jpg: 96x160 1 drone, 106.2ms\n",
      "image 43/100 /app/Assignment-3/Drone_Tracking_1/frame_47.jpg: 96x160 1 drone, 232.0ms\n",
      "image 44/100 /app/Assignment-3/Drone_Tracking_1/frame_48.jpg: 96x160 1 drone, 367.6ms\n",
      "image 45/100 /app/Assignment-3/Drone_Tracking_1/frame_49.jpg: 96x160 1 drone, 177.1ms\n",
      "image 46/100 /app/Assignment-3/Drone_Tracking_1/frame_5.jpg: 96x160 1 drone, 142.2ms\n",
      "image 47/100 /app/Assignment-3/Drone_Tracking_1/frame_50.jpg: 96x160 1 drone, 102.2ms\n",
      "image 48/100 /app/Assignment-3/Drone_Tracking_1/frame_51.jpg: 96x160 1 drone, 74.8ms\n",
      "image 49/100 /app/Assignment-3/Drone_Tracking_1/frame_52.jpg: 96x160 1 drone, 94.3ms\n",
      "image 50/100 /app/Assignment-3/Drone_Tracking_1/frame_53.jpg: 96x160 1 drone, 87.4ms\n",
      "image 51/100 /app/Assignment-3/Drone_Tracking_1/frame_54.jpg: 96x160 1 drone, 156.9ms\n",
      "image 52/100 /app/Assignment-3/Drone_Tracking_1/frame_55.jpg: 96x160 1 drone, 121.9ms\n",
      "image 53/100 /app/Assignment-3/Drone_Tracking_1/frame_56.jpg: 96x160 1 drone, 210.3ms\n",
      "image 54/100 /app/Assignment-3/Drone_Tracking_1/frame_57.jpg: 96x160 1 drone, 165.4ms\n",
      "image 55/100 /app/Assignment-3/Drone_Tracking_1/frame_58.jpg: 96x160 1 drone, 144.6ms\n",
      "image 56/100 /app/Assignment-3/Drone_Tracking_1/frame_59.jpg: 96x160 1 drone, 309.0ms\n",
      "image 57/100 /app/Assignment-3/Drone_Tracking_1/frame_6.jpg: 96x160 1 drone, 220.7ms\n",
      "image 58/100 /app/Assignment-3/Drone_Tracking_1/frame_60.jpg: 96x160 1 drone, 109.4ms\n",
      "image 59/100 /app/Assignment-3/Drone_Tracking_1/frame_61.jpg: 96x160 1 drone, 116.4ms\n",
      "image 60/100 /app/Assignment-3/Drone_Tracking_1/frame_62.jpg: 96x160 1 drone, 108.3ms\n",
      "image 61/100 /app/Assignment-3/Drone_Tracking_1/frame_63.jpg: 96x160 1 drone, 119.5ms\n",
      "image 62/100 /app/Assignment-3/Drone_Tracking_1/frame_64.jpg: 96x160 1 drone, 116.9ms\n",
      "image 63/100 /app/Assignment-3/Drone_Tracking_1/frame_65.jpg: 96x160 1 drone, 130.4ms\n",
      "image 64/100 /app/Assignment-3/Drone_Tracking_1/frame_66.jpg: 96x160 1 drone, 119.3ms\n",
      "image 65/100 /app/Assignment-3/Drone_Tracking_1/frame_67.jpg: 96x160 1 drone, 163.0ms\n",
      "image 66/100 /app/Assignment-3/Drone_Tracking_1/frame_68.jpg: 96x160 1 drone, 175.9ms\n",
      "image 67/100 /app/Assignment-3/Drone_Tracking_1/frame_69.jpg: 96x160 1 drone, 155.6ms\n",
      "image 68/100 /app/Assignment-3/Drone_Tracking_1/frame_7.jpg: 96x160 1 drone, 161.5ms\n",
      "image 69/100 /app/Assignment-3/Drone_Tracking_1/frame_70.jpg: 96x160 1 drone, 168.7ms\n",
      "image 70/100 /app/Assignment-3/Drone_Tracking_1/frame_71.jpg: 96x160 1 drone, 189.0ms\n",
      "image 71/100 /app/Assignment-3/Drone_Tracking_1/frame_72.jpg: 96x160 1 drone, 152.4ms\n",
      "image 72/100 /app/Assignment-3/Drone_Tracking_1/frame_73.jpg: 96x160 1 drone, 166.2ms\n",
      "image 73/100 /app/Assignment-3/Drone_Tracking_1/frame_74.jpg: 96x160 1 drone, 279.0ms\n",
      "image 74/100 /app/Assignment-3/Drone_Tracking_1/frame_75.jpg: 96x160 1 drone, 157.6ms\n",
      "image 75/100 /app/Assignment-3/Drone_Tracking_1/frame_76.jpg: 96x160 1 drone, 177.2ms\n",
      "image 76/100 /app/Assignment-3/Drone_Tracking_1/frame_77.jpg: 96x160 1 drone, 114.6ms\n",
      "image 77/100 /app/Assignment-3/Drone_Tracking_1/frame_78.jpg: 96x160 1 drone, 101.4ms\n",
      "image 78/100 /app/Assignment-3/Drone_Tracking_1/frame_79.jpg: 96x160 1 drone, 99.5ms\n",
      "image 79/100 /app/Assignment-3/Drone_Tracking_1/frame_8.jpg: 96x160 1 drone, 216.1ms\n",
      "image 80/100 /app/Assignment-3/Drone_Tracking_1/frame_80.jpg: 96x160 1 drone, 114.3ms\n",
      "image 81/100 /app/Assignment-3/Drone_Tracking_1/frame_81.jpg: 96x160 1 drone, 113.4ms\n",
      "image 82/100 /app/Assignment-3/Drone_Tracking_1/frame_82.jpg: 96x160 1 drone, 345.4ms\n",
      "image 83/100 /app/Assignment-3/Drone_Tracking_1/frame_83.jpg: 96x160 1 drone, 173.4ms\n",
      "image 84/100 /app/Assignment-3/Drone_Tracking_1/frame_84.jpg: 96x160 1 drone, 188.0ms\n",
      "image 85/100 /app/Assignment-3/Drone_Tracking_1/frame_85.jpg: 96x160 1 drone, 152.0ms\n",
      "image 86/100 /app/Assignment-3/Drone_Tracking_1/frame_86.jpg: 96x160 1 drone, 123.4ms\n",
      "image 87/100 /app/Assignment-3/Drone_Tracking_1/frame_87.jpg: 96x160 1 drone, 121.4ms\n",
      "image 88/100 /app/Assignment-3/Drone_Tracking_1/frame_88.jpg: 96x160 1 drone, 96.1ms\n",
      "image 89/100 /app/Assignment-3/Drone_Tracking_1/frame_89.jpg: 96x160 1 drone, 186.8ms\n",
      "image 90/100 /app/Assignment-3/Drone_Tracking_1/frame_9.jpg: 96x160 1 drone, 190.9ms\n",
      "image 91/100 /app/Assignment-3/Drone_Tracking_1/frame_90.jpg: 96x160 1 drone, 148.4ms\n",
      "image 92/100 /app/Assignment-3/Drone_Tracking_1/frame_91.jpg: 96x160 1 drone, 184.6ms\n",
      "image 93/100 /app/Assignment-3/Drone_Tracking_1/frame_92.jpg: 96x160 1 drone, 167.4ms\n",
      "image 94/100 /app/Assignment-3/Drone_Tracking_1/frame_93.jpg: 96x160 1 drone, 161.5ms\n",
      "image 95/100 /app/Assignment-3/Drone_Tracking_1/frame_94.jpg: 96x160 1 drone, 113.9ms\n",
      "image 96/100 /app/Assignment-3/Drone_Tracking_1/frame_95.jpg: 96x160 1 drone, 113.4ms\n",
      "image 97/100 /app/Assignment-3/Drone_Tracking_1/frame_96.jpg: 96x160 1 drone, 133.7ms\n",
      "image 98/100 /app/Assignment-3/Drone_Tracking_1/frame_97.jpg: 96x160 1 drone, 104.1ms\n",
      "image 99/100 /app/Assignment-3/Drone_Tracking_1/frame_98.jpg: 96x160 1 drone, 182.7ms\n",
      "image 100/100 /app/Assignment-3/Drone_Tracking_1/frame_99.jpg: 96x160 1 drone, 118.8ms\n",
      "Speed: 5.0ms preprocess, 143.5ms inference, 0.9ms postprocess per image at shape (1, 3, 96, 160)\n"
     ]
    },
    {
     "name": "stdout",
     "output_type": "stream",
     "text": [
      "100\n"
     ]
    }
   ],
   "source": [
    "results = model2.predict(source0,conf=0.2)\n",
    "print(len(results))"
   ]
  },
  {
   "cell_type": "code",
   "execution_count": 31,
   "id": "cd14a40d-cd52-4e67-ae16-954701d29431",
   "metadata": {},
   "outputs": [
    {
     "name": "stderr",
     "output_type": "stream",
     "text": [
      "/tmp/ipykernel_355/2361230193.py:8: FutureWarning: The behavior of DataFrame concatenation with empty or all-NA entries is deprecated. In a future version, this will no longer exclude empty or all-NA columns when determining the result dtypes. To retain the old behavior, exclude the relevant entries before the concat operation.\n",
      "  PBOX=pd.concat([PBOX,arri],axis=0)\n"
     ]
    },
    {
     "data": {
      "text/html": [
       "<div>\n",
       "<style scoped>\n",
       "    .dataframe tbody tr th:only-of-type {\n",
       "        vertical-align: middle;\n",
       "    }\n",
       "\n",
       "    .dataframe tbody tr th {\n",
       "        vertical-align: top;\n",
       "    }\n",
       "\n",
       "    .dataframe thead th {\n",
       "        text-align: right;\n",
       "    }\n",
       "</style>\n",
       "<table border=\"1\" class=\"dataframe\">\n",
       "  <thead>\n",
       "    <tr style=\"text-align: right;\">\n",
       "      <th></th>\n",
       "      <th>x</th>\n",
       "      <th>y</th>\n",
       "      <th>x2</th>\n",
       "      <th>y2</th>\n",
       "      <th>confidence</th>\n",
       "      <th>class</th>\n",
       "      <th>file</th>\n",
       "      <th>i</th>\n",
       "    </tr>\n",
       "  </thead>\n",
       "  <tbody>\n",
       "    <tr>\n",
       "      <th>0</th>\n",
       "      <td>540.334351</td>\n",
       "      <td>94.734581</td>\n",
       "      <td>644.180298</td>\n",
       "      <td>172.411591</td>\n",
       "      <td>0.224466</td>\n",
       "      <td>0.0</td>\n",
       "      <td>frame_1.jpg</td>\n",
       "      <td>0.0</td>\n",
       "    </tr>\n",
       "    <tr>\n",
       "      <th>0</th>\n",
       "      <td>538.391968</td>\n",
       "      <td>89.289673</td>\n",
       "      <td>643.608398</td>\n",
       "      <td>172.516205</td>\n",
       "      <td>0.336899</td>\n",
       "      <td>0.0</td>\n",
       "      <td>frame_10.jpg</td>\n",
       "      <td>1.0</td>\n",
       "    </tr>\n",
       "    <tr>\n",
       "      <th>0</th>\n",
       "      <td>536.008179</td>\n",
       "      <td>103.553986</td>\n",
       "      <td>647.982544</td>\n",
       "      <td>190.649017</td>\n",
       "      <td>0.455725</td>\n",
       "      <td>0.0</td>\n",
       "      <td>frame_100.jpg</td>\n",
       "      <td>2.0</td>\n",
       "    </tr>\n",
       "    <tr>\n",
       "      <th>0</th>\n",
       "      <td>537.543274</td>\n",
       "      <td>92.561546</td>\n",
       "      <td>643.727600</td>\n",
       "      <td>174.095490</td>\n",
       "      <td>0.315896</td>\n",
       "      <td>0.0</td>\n",
       "      <td>frame_13.jpg</td>\n",
       "      <td>5.0</td>\n",
       "    </tr>\n",
       "    <tr>\n",
       "      <th>0</th>\n",
       "      <td>538.349976</td>\n",
       "      <td>95.826683</td>\n",
       "      <td>644.186890</td>\n",
       "      <td>175.450470</td>\n",
       "      <td>0.302445</td>\n",
       "      <td>0.0</td>\n",
       "      <td>frame_14.jpg</td>\n",
       "      <td>6.0</td>\n",
       "    </tr>\n",
       "    <tr>\n",
       "      <th>...</th>\n",
       "      <td>...</td>\n",
       "      <td>...</td>\n",
       "      <td>...</td>\n",
       "      <td>...</td>\n",
       "      <td>...</td>\n",
       "      <td>...</td>\n",
       "      <td>...</td>\n",
       "      <td>...</td>\n",
       "    </tr>\n",
       "    <tr>\n",
       "      <th>0</th>\n",
       "      <td>535.638672</td>\n",
       "      <td>104.303253</td>\n",
       "      <td>647.619629</td>\n",
       "      <td>192.681824</td>\n",
       "      <td>0.447255</td>\n",
       "      <td>0.0</td>\n",
       "      <td>frame_95.jpg</td>\n",
       "      <td>95.0</td>\n",
       "    </tr>\n",
       "    <tr>\n",
       "      <th>0</th>\n",
       "      <td>536.111084</td>\n",
       "      <td>104.729904</td>\n",
       "      <td>647.715332</td>\n",
       "      <td>191.973343</td>\n",
       "      <td>0.431100</td>\n",
       "      <td>0.0</td>\n",
       "      <td>frame_96.jpg</td>\n",
       "      <td>96.0</td>\n",
       "    </tr>\n",
       "    <tr>\n",
       "      <th>0</th>\n",
       "      <td>536.027832</td>\n",
       "      <td>104.243301</td>\n",
       "      <td>648.014893</td>\n",
       "      <td>190.827347</td>\n",
       "      <td>0.445549</td>\n",
       "      <td>0.0</td>\n",
       "      <td>frame_97.jpg</td>\n",
       "      <td>97.0</td>\n",
       "    </tr>\n",
       "    <tr>\n",
       "      <th>0</th>\n",
       "      <td>534.855408</td>\n",
       "      <td>103.970856</td>\n",
       "      <td>648.145813</td>\n",
       "      <td>194.185516</td>\n",
       "      <td>0.477549</td>\n",
       "      <td>0.0</td>\n",
       "      <td>frame_98.jpg</td>\n",
       "      <td>98.0</td>\n",
       "    </tr>\n",
       "    <tr>\n",
       "      <th>0</th>\n",
       "      <td>536.016541</td>\n",
       "      <td>103.411659</td>\n",
       "      <td>647.787781</td>\n",
       "      <td>190.174957</td>\n",
       "      <td>0.455924</td>\n",
       "      <td>0.0</td>\n",
       "      <td>frame_99.jpg</td>\n",
       "      <td>99.0</td>\n",
       "    </tr>\n",
       "  </tbody>\n",
       "</table>\n",
       "<p>94 rows × 8 columns</p>\n",
       "</div>"
      ],
      "text/plain": [
       "             x           y          x2          y2  confidence  class  \\\n",
       "0   540.334351   94.734581  644.180298  172.411591    0.224466    0.0   \n",
       "0   538.391968   89.289673  643.608398  172.516205    0.336899    0.0   \n",
       "0   536.008179  103.553986  647.982544  190.649017    0.455725    0.0   \n",
       "0   537.543274   92.561546  643.727600  174.095490    0.315896    0.0   \n",
       "0   538.349976   95.826683  644.186890  175.450470    0.302445    0.0   \n",
       "..         ...         ...         ...         ...         ...    ...   \n",
       "0   535.638672  104.303253  647.619629  192.681824    0.447255    0.0   \n",
       "0   536.111084  104.729904  647.715332  191.973343    0.431100    0.0   \n",
       "0   536.027832  104.243301  648.014893  190.827347    0.445549    0.0   \n",
       "0   534.855408  103.970856  648.145813  194.185516    0.477549    0.0   \n",
       "0   536.016541  103.411659  647.787781  190.174957    0.455924    0.0   \n",
       "\n",
       "             file     i  \n",
       "0     frame_1.jpg   0.0  \n",
       "0    frame_10.jpg   1.0  \n",
       "0   frame_100.jpg   2.0  \n",
       "0    frame_13.jpg   5.0  \n",
       "0    frame_14.jpg   6.0  \n",
       "..            ...   ...  \n",
       "0    frame_95.jpg  95.0  \n",
       "0    frame_96.jpg  96.0  \n",
       "0    frame_97.jpg  97.0  \n",
       "0    frame_98.jpg  98.0  \n",
       "0    frame_99.jpg  99.0  \n",
       "\n",
       "[94 rows x 8 columns]"
      ]
     },
     "metadata": {},
     "output_type": "display_data"
    }
   ],
   "source": [
    "PBOX=pd.DataFrame(columns=range(6))\n",
    "for i in range(len(results)):\n",
    "    arri=pd.DataFrame(results[i].boxes.data.cpu().numpy()).astype(float)\n",
    "    path=ppaths[i]\n",
    "    file=path.split('/')[-1]\n",
    "    arri=arri.assign(file=file)\n",
    "    arri=arri.assign(i=i)\n",
    "    PBOX=pd.concat([PBOX,arri],axis=0)\n",
    "PBOX.columns=['x','y','x2','y2','confidence','class','file','i']\n",
    "display(PBOX)"
   ]
  },
  {
   "cell_type": "code",
   "execution_count": 32,
   "id": "ddb33788-5fde-4561-87f1-074c58cd9acc",
   "metadata": {},
   "outputs": [
    {
     "data": {
      "text/html": [
       "<div>\n",
       "<style scoped>\n",
       "    .dataframe tbody tr th:only-of-type {\n",
       "        vertical-align: middle;\n",
       "    }\n",
       "\n",
       "    .dataframe tbody tr th {\n",
       "        vertical-align: top;\n",
       "    }\n",
       "\n",
       "    .dataframe thead th {\n",
       "        text-align: right;\n",
       "    }\n",
       "</style>\n",
       "<table border=\"1\" class=\"dataframe\">\n",
       "  <thead>\n",
       "    <tr style=\"text-align: right;\">\n",
       "      <th></th>\n",
       "      <th>x</th>\n",
       "      <th>y</th>\n",
       "      <th>x2</th>\n",
       "      <th>y2</th>\n",
       "      <th>confidence</th>\n",
       "      <th>class</th>\n",
       "      <th>file</th>\n",
       "      <th>i</th>\n",
       "    </tr>\n",
       "  </thead>\n",
       "  <tbody>\n",
       "    <tr>\n",
       "      <th>0</th>\n",
       "      <td>540.334351</td>\n",
       "      <td>94.734581</td>\n",
       "      <td>644.180298</td>\n",
       "      <td>172.411591</td>\n",
       "      <td>0.224466</td>\n",
       "      <td>drone</td>\n",
       "      <td>frame_1.jpg</td>\n",
       "      <td>0.0</td>\n",
       "    </tr>\n",
       "    <tr>\n",
       "      <th>1</th>\n",
       "      <td>538.391968</td>\n",
       "      <td>89.289673</td>\n",
       "      <td>643.608398</td>\n",
       "      <td>172.516205</td>\n",
       "      <td>0.336899</td>\n",
       "      <td>drone</td>\n",
       "      <td>frame_10.jpg</td>\n",
       "      <td>1.0</td>\n",
       "    </tr>\n",
       "    <tr>\n",
       "      <th>2</th>\n",
       "      <td>536.008179</td>\n",
       "      <td>103.553986</td>\n",
       "      <td>647.982544</td>\n",
       "      <td>190.649017</td>\n",
       "      <td>0.455725</td>\n",
       "      <td>drone</td>\n",
       "      <td>frame_100.jpg</td>\n",
       "      <td>2.0</td>\n",
       "    </tr>\n",
       "    <tr>\n",
       "      <th>3</th>\n",
       "      <td>537.543274</td>\n",
       "      <td>92.561546</td>\n",
       "      <td>643.727600</td>\n",
       "      <td>174.095490</td>\n",
       "      <td>0.315896</td>\n",
       "      <td>drone</td>\n",
       "      <td>frame_13.jpg</td>\n",
       "      <td>5.0</td>\n",
       "    </tr>\n",
       "    <tr>\n",
       "      <th>4</th>\n",
       "      <td>538.349976</td>\n",
       "      <td>95.826683</td>\n",
       "      <td>644.186890</td>\n",
       "      <td>175.450470</td>\n",
       "      <td>0.302445</td>\n",
       "      <td>drone</td>\n",
       "      <td>frame_14.jpg</td>\n",
       "      <td>6.0</td>\n",
       "    </tr>\n",
       "    <tr>\n",
       "      <th>...</th>\n",
       "      <td>...</td>\n",
       "      <td>...</td>\n",
       "      <td>...</td>\n",
       "      <td>...</td>\n",
       "      <td>...</td>\n",
       "      <td>...</td>\n",
       "      <td>...</td>\n",
       "      <td>...</td>\n",
       "    </tr>\n",
       "    <tr>\n",
       "      <th>89</th>\n",
       "      <td>535.638672</td>\n",
       "      <td>104.303253</td>\n",
       "      <td>647.619629</td>\n",
       "      <td>192.681824</td>\n",
       "      <td>0.447255</td>\n",
       "      <td>drone</td>\n",
       "      <td>frame_95.jpg</td>\n",
       "      <td>95.0</td>\n",
       "    </tr>\n",
       "    <tr>\n",
       "      <th>90</th>\n",
       "      <td>536.111084</td>\n",
       "      <td>104.729904</td>\n",
       "      <td>647.715332</td>\n",
       "      <td>191.973343</td>\n",
       "      <td>0.431100</td>\n",
       "      <td>drone</td>\n",
       "      <td>frame_96.jpg</td>\n",
       "      <td>96.0</td>\n",
       "    </tr>\n",
       "    <tr>\n",
       "      <th>91</th>\n",
       "      <td>536.027832</td>\n",
       "      <td>104.243301</td>\n",
       "      <td>648.014893</td>\n",
       "      <td>190.827347</td>\n",
       "      <td>0.445549</td>\n",
       "      <td>drone</td>\n",
       "      <td>frame_97.jpg</td>\n",
       "      <td>97.0</td>\n",
       "    </tr>\n",
       "    <tr>\n",
       "      <th>92</th>\n",
       "      <td>534.855408</td>\n",
       "      <td>103.970856</td>\n",
       "      <td>648.145813</td>\n",
       "      <td>194.185516</td>\n",
       "      <td>0.477549</td>\n",
       "      <td>drone</td>\n",
       "      <td>frame_98.jpg</td>\n",
       "      <td>98.0</td>\n",
       "    </tr>\n",
       "    <tr>\n",
       "      <th>93</th>\n",
       "      <td>536.016541</td>\n",
       "      <td>103.411659</td>\n",
       "      <td>647.787781</td>\n",
       "      <td>190.174957</td>\n",
       "      <td>0.455924</td>\n",
       "      <td>drone</td>\n",
       "      <td>frame_99.jpg</td>\n",
       "      <td>99.0</td>\n",
       "    </tr>\n",
       "  </tbody>\n",
       "</table>\n",
       "<p>94 rows × 8 columns</p>\n",
       "</div>"
      ],
      "text/plain": [
       "             x           y          x2          y2  confidence  class  \\\n",
       "0   540.334351   94.734581  644.180298  172.411591    0.224466  drone   \n",
       "1   538.391968   89.289673  643.608398  172.516205    0.336899  drone   \n",
       "2   536.008179  103.553986  647.982544  190.649017    0.455725  drone   \n",
       "3   537.543274   92.561546  643.727600  174.095490    0.315896  drone   \n",
       "4   538.349976   95.826683  644.186890  175.450470    0.302445  drone   \n",
       "..         ...         ...         ...         ...         ...    ...   \n",
       "89  535.638672  104.303253  647.619629  192.681824    0.447255  drone   \n",
       "90  536.111084  104.729904  647.715332  191.973343    0.431100  drone   \n",
       "91  536.027832  104.243301  648.014893  190.827347    0.445549  drone   \n",
       "92  534.855408  103.970856  648.145813  194.185516    0.477549  drone   \n",
       "93  536.016541  103.411659  647.787781  190.174957    0.455924  drone   \n",
       "\n",
       "             file     i  \n",
       "0     frame_1.jpg   0.0  \n",
       "1    frame_10.jpg   1.0  \n",
       "2   frame_100.jpg   2.0  \n",
       "3    frame_13.jpg   5.0  \n",
       "4    frame_14.jpg   6.0  \n",
       "..            ...   ...  \n",
       "89   frame_95.jpg  95.0  \n",
       "90   frame_96.jpg  96.0  \n",
       "91   frame_97.jpg  97.0  \n",
       "92   frame_98.jpg  98.0  \n",
       "93   frame_99.jpg  99.0  \n",
       "\n",
       "[94 rows x 8 columns]"
      ]
     },
     "metadata": {},
     "output_type": "display_data"
    },
    {
     "data": {
      "text/plain": [
       "class\n",
       "drone    94\n",
       "Name: count, dtype: int64"
      ]
     },
     "metadata": {},
     "output_type": "display_data"
    }
   ],
   "source": [
    "PBOX['class']=PBOX['class'].apply(lambda x: class_map[int(x)])\n",
    "PBOX=PBOX.reset_index(drop=True)\n",
    "display(PBOX)\n",
    "display(PBOX['class'].value_counts())"
   ]
  },
  {
   "cell_type": "code",
   "execution_count": 33,
   "id": "bfe11e77-d97e-4724-b6c6-a2c7be8d2b2f",
   "metadata": {},
   "outputs": [],
   "source": [
    "def draw_box2(n0):\n",
    "    \n",
    "    ipath=ppaths[n0]\n",
    "    image=cv2.imread(ipath)\n",
    "    H,W=image.shape[0],image.shape[1]\n",
    "    file=ipath.split('/')[-1]\n",
    "    \n",
    "    if PBOX[PBOX['file']==file] is not None:\n",
    "        box=PBOX[PBOX['file']==file]\n",
    "        box=box.reset_index(drop=True)\n",
    "        #display(box)\n",
    "\n",
    "        for i in range(len(box)):\n",
    "            label=box.loc[i,'class']\n",
    "            x=int(box.loc[i,'x'])\n",
    "            y=int(box.loc[i,'y'])\n",
    "            x2=int(box.loc[i,'x2']) \n",
    "            y2=int(box.loc[i,'y2'])\n",
    "            #print(label,x,y,x2,y2)\n",
    "            #cv2.putText(image, f'{label}', (x, int(y-4)), \n",
    "            #            cv2.FONT_HERSHEY_SIMPLEX, 1.0, (0,255,0),2)\n",
    "            cv2.rectangle(image,(x,y),(x2,y2),(0,255,0),2) #green\n",
    "    \n",
    "    #plt.imshow(image)\n",
    "    #plt.show()   \n",
    "    \n",
    "    return image"
   ]
  },
  {
   "cell_type": "code",
   "execution_count": 34,
   "id": "6b971283-307a-4371-b554-278358f84892",
   "metadata": {},
   "outputs": [
    {
     "name": "stderr",
     "output_type": "stream",
     "text": [
      "100%|█████████████████████████████████████████| 100/100 [00:03<00:00, 28.02it/s]\n"
     ]
    }
   ],
   "source": [
    "images1=[]\n",
    "for i in tqdm(range(len(ppaths))):\n",
    "    images1+=[draw_box2(i)]"
   ]
  },
  {
   "cell_type": "code",
   "execution_count": 39,
   "id": "bc231dd7-6d9b-4069-b6f0-a784db853eda",
   "metadata": {},
   "outputs": [
    {
     "data": {
      "image/png": "[encoded data removed]",
      "text/plain": [
       "<Figure size 1000x500 with 2 Axes>"
      ]
     },
     "metadata": {},
     "output_type": "display_data"
    }
   ],
   "source": [
    "def plot_images(folder_path):\n",
    "    # Get a list of image files in the folder\n",
    "    image_files = [f for f in os.listdir(folder_path) if f.endswith(('.jpg'))]\n",
    "\n",
    "    # Load the first two images\n",
    "    first_image_path = os.path.join(folder_path, image_files[0])\n",
    "    second_image_path = os.path.join(folder_path, image_files[1])\n",
    "\n",
    "    first_image = Image.open(first_image_path)\n",
    "    second_image = Image.open(second_image_path)\n",
    "\n",
    "    # Plot the first two images\n",
    "    plt.figure(figsize=(10, 5))\n",
    "\n",
    "    # Plot the first image\n",
    "    plt.subplot(1, 2, 1)\n",
    "    plt.imshow(first_image)\n",
    "    plt.title('First Image')\n",
    "\n",
    "    # Plot the second image\n",
    "    plt.subplot(1, 2, 2)\n",
    "    plt.imshow(second_image)\n",
    "    plt.title('Second Image')\n",
    "\n",
    "    plt.show()\n",
    "\n",
    "if __name__ == \"__main__\":\n",
    "    # Replace 'path/to/your/images/folder' with the actual path to your folder of images\n",
    "    images_folder_path = 'runs/detect/predict'\n",
    "    plot_images(images_folder_path)"
   ]
  },
  {
   "cell_type": "markdown",
   "id": "a4a66421-1b99-4ed9-8e9d-952e750f694c",
   "metadata": {},
   "source": [
    "### Same steps for video 2"
   ]
  },
  {
   "cell_type": "code",
   "execution_count": null,
   "id": "753d4468-84f2-4d4b-b822-cf28857a220a",
   "metadata": {},
   "outputs": [],
   "source": [
    "source2='Drone_Tracking_2'"
   ]
  },
  {
   "cell_type": "code",
   "execution_count": null,
   "id": "c114c7ff-8359-4635-ba26-4abe88dfd1ca",
   "metadata": {},
   "outputs": [],
   "source": [
    "ppaths2=[]\n",
    "for dirname, _, filenames in os.walk(source2):\n",
    "    for filename in filenames:\n",
    "        if filename[-4:]=='.jpg':\n",
    "            ppaths+=[(os.path.join(dirname, filename))]\n",
    "ppaths2=sorted(ppaths2)"
   ]
  },
  {
   "cell_type": "code",
   "execution_count": null,
   "id": "d875b9b3-0877-45c2-b143-47708aab45e4",
   "metadata": {},
   "outputs": [],
   "source": [
    "!yolo task=detect mode=predict model={best_path0} conf=0.2 source={source2}"
   ]
  },
  {
   "cell_type": "code",
   "execution_count": null,
   "id": "5eb1cf2a-7f4a-47a1-8c54-6707891954f8",
   "metadata": {},
   "outputs": [],
   "source": [
    "results2 = model2.predict(source2,conf=0.2)\n",
    "print(len(results2))"
   ]
  },
  {
   "cell_type": "code",
   "execution_count": null,
   "id": "017550c4-63ec-4c62-9dc7-98be260259f2",
   "metadata": {},
   "outputs": [],
   "source": [
    "PBOX=pd.DataFrame(columns=range(6))\n",
    "for i in range(len(results2)):\n",
    "    arri=pd.DataFrame(results[i].boxes.data.cpu().numpy()).astype(float)\n",
    "    path=ppaths2[i]\n",
    "    file=path.split('/')[-1]\n",
    "    arri=arri.assign(file=file)\n",
    "    arri=arri.assign(i=i)\n",
    "    PBOX=pd.concat([PBOX,arri],axis=0)\n",
    "PBOX.columns=['x','y','x2','y2','confidence','class','file','i']\n",
    "display(PBOX)"
   ]
  },
  {
   "cell_type": "code",
   "execution_count": null,
   "id": "3fa7326f-c439-42d6-ab76-31bf7ee54ed8",
   "metadata": {},
   "outputs": [],
   "source": [
    "PBOX['class']=PBOX['class'].apply(lambda x: class_map[int(x)])\n",
    "PBOX=PBOX.reset_index(drop=True)\n",
    "display(PBOX)\n",
    "display(PBOX['class'].value_counts())"
   ]
  },
  {
   "cell_type": "code",
   "execution_count": null,
   "id": "78fc41f1-a099-41f6-b6bf-731556ea8b70",
   "metadata": {},
   "outputs": [],
   "source": [
    "images2=[]\n",
    "for i in tqdm(range(len(ppaths2))):\n",
    "    images2+=[draw_box2(i)]"
   ]
  },
  {
   "cell_type": "code",
   "execution_count": null,
   "id": "1805d75c-e713-4475-a36c-32106b54ca35",
   "metadata": {},
   "outputs": [],
   "source": [
    "if __name__ == \"__main__\":\n",
    "    # Example image list (replace this with your actual list)\n",
    "    image_list = images2\n",
    "    # Example destination folder (replace this with your desired folder)\n",
    "    destination_folder = \"detections\"\n",
    "    # Move images to the destination folder\n",
    "    move_images_to_folder(image_list, destination_folder)"
   ]
  }
 ],
 "metadata": {
  "kernelspec": {
   "display_name": "Python 3 (ipykernel)",
   "language": "python",
   "name": "python3"
  },
  "language_info": {
   "codemirror_mode": {
    "name": "ipython",
    "version": 3
   },
   "file_extension": ".py",
   "mimetype": "text/x-python",
   "name": "python",
   "nbconvert_exporter": "python",
   "pygments_lexer": "ipython3",
   "version": "3.9.18"
  }
 },
 "nbformat": 4,
 "nbformat_minor": 5
}
